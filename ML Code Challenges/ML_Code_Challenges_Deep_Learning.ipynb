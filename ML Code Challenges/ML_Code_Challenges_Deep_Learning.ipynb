{
  "nbformat": 4,
  "nbformat_minor": 0,
  "metadata": {
    "colab": {
      "provenance": [],
      "authorship_tag": "ABX9TyOvQelrHs3PujjWN+qXFwu9",
      "include_colab_link": true
    },
    "kernelspec": {
      "name": "python3",
      "display_name": "Python 3"
    },
    "language_info": {
      "name": "python"
    }
  },
  "cells": [
    {
      "cell_type": "markdown",
      "metadata": {
        "id": "view-in-github",
        "colab_type": "text"
      },
      "source": [
        "<a href=\"https://colab.research.google.com/github/NajlaaNawaii/Math-and-Machine-Learning-Puzzles/blob/main/ML%20Code%20Challenges/ML_Code_Challenges_Deep_Learning.ipynb\" target=\"_parent\"><img src=\"https://colab.research.google.com/assets/colab-badge.svg\" alt=\"Open In Colab\"/></a>"
      ]
    },
    {
      "cell_type": "markdown",
      "source": [
        "#Deep Learning Easy!"
      ],
      "metadata": {
        "id": "4HAGylrXJ112"
      }
    },
    {
      "cell_type": "markdown",
      "source": [
        "##Sigmoid Activation Function Understanding (easy) ✔\n",
        "Write a Python function that computes the output of the sigmoid activation function given an input value z. The function should return the output rounded to four decimal places."
      ],
      "metadata": {
        "id": "mKep4IscKDtM"
      }
    },
    {
      "cell_type": "code",
      "execution_count": 1,
      "metadata": {
        "id": "B10_1Y_gJBeD"
      },
      "outputs": [],
      "source": [
        "import math\n",
        "def sigmoid(z: float) -> float:\n",
        "\t#Your code here\n",
        "\tresult= 1 / (1 + math.exp(-z))\n",
        "\treturn round(result,4)"
      ]
    },
    {
      "cell_type": "markdown",
      "source": [
        "##Softmax Activation Function Implementation (easy) ✔\n",
        "Write a Python function that computes the softmax activation for a given list of scores. The function should return the softmax values as a list, each rounded to four decimal places."
      ],
      "metadata": {
        "id": "pOI9bF8ONUxi"
      }
    },
    {
      "cell_type": "code",
      "source": [
        "import numpy as np\n",
        "def softmax(scores: list[float]) -> list[float]:\n",
        "\t# Your code here\n",
        "\tintermediate= np.exp(scores)\n",
        "\tsummation=sum(intermediate)\n",
        "\tprobabilities=intermediate/summation\n",
        "\treturn probabilities"
      ],
      "metadata": {
        "id": "x3-2M1N7Ld3f"
      },
      "execution_count": 2,
      "outputs": []
    },
    {
      "cell_type": "markdown",
      "source": [
        "##Softmax Activation Function Implementation (easy) ✔\n",
        "Write a Python function that computes the softmax activation for a given list of scores. The function should return the softmax values as a list, each rounded to four decimal places."
      ],
      "metadata": {
        "id": "1HcqfBXZS5Ot"
      }
    },
    {
      "cell_type": "code",
      "source": [
        "import numpy as np\n",
        "def softmax(scores: list[float]) -> list[float]:\n",
        "\t# Your code here\n",
        "\tintermediate= np.exp(scores)\n",
        "\tsummation=sum(intermediate)\n",
        "\tprobabilities=intermediate/summation\n",
        "\treturn probabilities"
      ],
      "metadata": {
        "id": "l7FU30qPS2bO"
      },
      "execution_count": 3,
      "outputs": []
    },
    {
      "cell_type": "code",
      "source": [],
      "metadata": {
        "id": "05bbFxWYqJt8"
      },
      "execution_count": null,
      "outputs": []
    }
  ]
}