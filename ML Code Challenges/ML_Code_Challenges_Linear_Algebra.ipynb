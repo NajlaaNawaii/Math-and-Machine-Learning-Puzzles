{
  "nbformat": 4,
  "nbformat_minor": 0,
  "metadata": {
    "colab": {
      "provenance": [],
      "authorship_tag": "ABX9TyNCvgXwG+Xu+1qoUf/1OMlw",
      "include_colab_link": true
    },
    "kernelspec": {
      "name": "python3",
      "display_name": "Python 3"
    },
    "language_info": {
      "name": "python"
    }
  },
  "cells": [
    {
      "cell_type": "markdown",
      "metadata": {
        "id": "view-in-github",
        "colab_type": "text"
      },
      "source": [
        "<a href=\"https://colab.research.google.com/github/NajlaaNawaii/Math-and-Machine-Learning-Puzzles/blob/main/ML%20Code%20Challenges/ML_Code_Challenges_Linear_Algebra.ipynb\" target=\"_parent\"><img src=\"https://colab.research.google.com/assets/colab-badge.svg\" alt=\"Open In Colab\"/></a>"
      ]
    },
    {
      "cell_type": "markdown",
      "source": [
        "#ML CHALLENGES LINK: https://www.deep-ml.com/?difficulty=&category=linear+algebra&solved=&page=1"
      ],
      "metadata": {
        "id": "vltejWIJgH8a"
      }
    },
    {
      "cell_type": "markdown",
      "source": [
        "#Linear Algebra Easy! ( 15 problems )"
      ],
      "metadata": {
        "id": "pTOIHs95ibwT"
      }
    },
    {
      "cell_type": "markdown",
      "source": [
        "##Matrix times Vector (easy) ✔\n",
        "Write a Python function that takes the dot product of a matrix and a vector. return -1 if the matrix could not be dotted with the vector"
      ],
      "metadata": {
        "id": "BMSNVkV2nO7N"
      }
    },
    {
      "cell_type": "code",
      "source": [
        "a=[[1,2],[3,4]]\n",
        "b=[5,6]"
      ],
      "metadata": {
        "id": "yLbCJJtljLmn"
      },
      "execution_count": null,
      "outputs": []
    },
    {
      "cell_type": "code",
      "source": [
        "def matrix_dot_vector(a:list[list[int|float]],b:list[int|float])-> list[int|float]:\n",
        "  if len(a[0]) != len(b):\n",
        "\t  return -1\n",
        "\n",
        "  c=[0]*len(a)\n",
        "  for i in range(len(a)):\n",
        "    for j in range(len(a[i])):\n",
        "      c[i]+=a[i][j]*b[j]\n",
        "  return c\n",
        "\n",
        "matrix_dot_vector(a,b)"
      ],
      "metadata": {
        "colab": {
          "base_uri": "https://localhost:8080/"
        },
        "id": "2yUXY5QPkt2C",
        "outputId": "f8d10b9c-8cff-4d8c-8e17-d0f559403c61"
      },
      "execution_count": null,
      "outputs": [
        {
          "output_type": "execute_result",
          "data": {
            "text/plain": [
              "[17, 39]"
            ]
          },
          "metadata": {},
          "execution_count": 2
        }
      ]
    },
    {
      "cell_type": "code",
      "source": [
        "#Using List comprehension\n",
        "def matrix_dot_vector(a: list[list[int | float]], b: list[int | float]) -> list[int | float]:\n",
        "    if len(a[0]) != len(b):\n",
        "        return -1\n",
        "    return [sum(a_row[col] * b[col] for col in range(len(a_row))) for a_row in a]\n",
        "\n",
        "matrix_dot_vector(a,b)"
      ],
      "metadata": {
        "colab": {
          "base_uri": "https://localhost:8080/"
        },
        "id": "FqBfz_cDmuD6",
        "outputId": "4c42c1f7-3f98-4cfc-e89f-fa69408d769e"
      },
      "execution_count": null,
      "outputs": [
        {
          "output_type": "execute_result",
          "data": {
            "text/plain": [
              "[17, 39]"
            ]
          },
          "metadata": {},
          "execution_count": 3
        }
      ]
    },
    {
      "cell_type": "code",
      "source": [
        "def matrix_dot_vector(a: list[list[int|float]], b: list[int|float]) -> list[int|float]:\n",
        "\tk=[]\n",
        "\tif len (a[0])==len(b):\n",
        "\t\tfor row in a:\n",
        "\t\t\telement=0\n",
        "\t\t\tfor i in range(len(row)):\n",
        "\t\t\t\telement+=row[i]*b[i]\n",
        "\t\t\tk.append(element)\n",
        "\t\treturn k\n",
        "\n",
        "\telse:\n",
        "\t\treturn -1"
      ],
      "metadata": {
        "id": "nQuoXtEFoGzi"
      },
      "execution_count": null,
      "outputs": []
    },
    {
      "cell_type": "code",
      "source": [
        "matrix_dot_vector(a,b)"
      ],
      "metadata": {
        "colab": {
          "base_uri": "https://localhost:8080/"
        },
        "id": "ekf8qtkBoNHU",
        "outputId": "66ba78b9-8d33-45df-d7c6-832fbf8a9f62"
      },
      "execution_count": null,
      "outputs": [
        {
          "output_type": "execute_result",
          "data": {
            "text/plain": [
              "[17, 39]"
            ]
          },
          "metadata": {},
          "execution_count": 4
        }
      ]
    },
    {
      "cell_type": "markdown",
      "source": [
        "##Transpose of a Matrix (easy) ✔\n",
        "Write a Python function that computes the transpose of a given matrix."
      ],
      "metadata": {
        "id": "hRhNL-gZy_5M"
      }
    },
    {
      "cell_type": "code",
      "source": [
        "a=[[1,2],[3,4],[5,6]]\n"
      ],
      "metadata": {
        "id": "NutVckEOzJnU"
      },
      "execution_count": null,
      "outputs": []
    },
    {
      "cell_type": "code",
      "source": [
        "def transpose_matrix(a: list[list[int|float]]) -> list[list[int|float]]:\n",
        "\tb=[[0 for row in range(len(a))] for col in range(len(a[0]))]\n",
        "\tfor i in range(len(a[0])):\n",
        "\t\tfor j in range(len(a)):\n",
        "\t\t\tb[i][j]=a[j][i]\n",
        "\treturn b\n",
        "\n",
        "transpose_matrix(a)"
      ],
      "metadata": {
        "colab": {
          "base_uri": "https://localhost:8080/"
        },
        "id": "_UpoA_AYsTmE",
        "outputId": "8fc79f23-a83f-402c-d356-203889663814"
      },
      "execution_count": null,
      "outputs": [
        {
          "output_type": "execute_result",
          "data": {
            "text/plain": [
              "[[1, 3, 5], [2, 4, 6]]"
            ]
          },
          "metadata": {},
          "execution_count": 18
        }
      ]
    },
    {
      "cell_type": "code",
      "source": [
        "#Using zip, it first unpack into tuples, returns a tuple of similar indices\n",
        "def transpose_matrix(a: list[list[int|float]]) -> list[list[int|float]]:\n",
        "  #takes each inner list as a seperate argument for zip; unpacks\n",
        "  return [ list(row) for row in zip(*a)]\n",
        "\n",
        "transpose_matrix(a)"
      ],
      "metadata": {
        "colab": {
          "base_uri": "https://localhost:8080/"
        },
        "id": "X-qCRcCKzOMG",
        "outputId": "0d193ad6-323c-4ff2-c577-d5b7da138bd4"
      },
      "execution_count": null,
      "outputs": [
        {
          "output_type": "execute_result",
          "data": {
            "text/plain": [
              "[[1, 3, 5], [2, 4, 6]]"
            ]
          },
          "metadata": {},
          "execution_count": 23
        }
      ]
    },
    {
      "cell_type": "code",
      "source": [
        "import numpy as np\n",
        "def transpose_matrix(a: list[list[int|float]]) -> list[list[int|float]]:\n",
        "    b=np.empty((len(a[0]),len(a)),dtype=int)\n",
        "    for i in range(len(a)):\n",
        "        for j in range(len(a[0])):\n",
        "            b[j][i]=a[i][j]\n",
        "    return b.tolist()\n",
        "\n",
        "\n",
        "transpose_matrix(a)"
      ],
      "metadata": {
        "colab": {
          "base_uri": "https://localhost:8080/"
        },
        "id": "5rJdxTWjsfwO",
        "outputId": "31ac87e6-60ad-44fe-917e-b119e129a26f"
      },
      "execution_count": null,
      "outputs": [
        {
          "output_type": "execute_result",
          "data": {
            "text/plain": [
              "[[1, 3, 5], [2, 4, 6]]"
            ]
          },
          "metadata": {},
          "execution_count": 12
        }
      ]
    },
    {
      "cell_type": "code",
      "source": [
        "import numpy as np\n",
        "def transpose_matrix(a: list[list[int|float]]) -> list[list[int|float]]:\n",
        "    a=np.array(a)\n",
        "    b=a.T\n",
        "    return b.tolist()\n",
        "\n",
        "\n",
        "transpose_matrix(a)"
      ],
      "metadata": {
        "id": "Rda46AtCof-E",
        "outputId": "d6299953-1f8f-4475-e789-b8a9f93bc1cb",
        "colab": {
          "base_uri": "https://localhost:8080/"
        }
      },
      "execution_count": null,
      "outputs": [
        {
          "output_type": "execute_result",
          "data": {
            "text/plain": [
              "[[1, 3, 5], [2, 4, 6]]"
            ]
          },
          "metadata": {},
          "execution_count": 32
        }
      ]
    },
    {
      "cell_type": "markdown",
      "source": [
        "##Transformation Matrix from Basis B to C (easy) ✔\n",
        "Given basis vectors in two different bases B and C for R^3, write a Python function to compute the transformation matrix P from basis B to C.\n"
      ],
      "metadata": {
        "id": "de9B6UgQlxQI"
      }
    },
    {
      "cell_type": "markdown",
      "source": [
        " #### To Change Basis:\n",
        "\n",
        "1. **Compute the Transformation Matrix**:\n",
        "\n",
        "   $$\n",
        "   P = C^{-1} \\times B\n",
        "   $$\n",
        "\n",
        "2. **Find the New Coordinates**:\n",
        "\n",
        "   $$\n",
        "   [\\mathbf{v}]_C = P \\times [\\mathbf{v}]_B\n",
        "   $$\n"
      ],
      "metadata": {
        "id": "fpzc46Ac7dTN"
      }
    },
    {
      "cell_type": "code",
      "source": [
        "B = [[1, 0, 0],\n",
        "    [0, 1, 0],\n",
        "    [0, 0, 1]]\n",
        "C = [[1, 2.3, 3],\n",
        "    [4.4, 25, 6],\n",
        "    [7.4, 8, 9]]\n"
      ],
      "metadata": {
        "id": "aCe5I4bprHCd"
      },
      "execution_count": null,
      "outputs": []
    },
    {
      "cell_type": "code",
      "source": [
        "import numpy as np\n",
        "def transform_basis(B: list[list[int]], C: list[list[int]]) -> list[list[float]]:\n",
        "\n",
        "  #it's only for creating list so don't forget [],Doing it the hard way!\n",
        "  C=np.array(C)\n",
        "  C_inversed=np.linalg.inv(C)\n",
        "\n",
        "  P_transposed = [[sum(c_row[col] * b_col[col] for col in range(len(c_row))) for c_row in C_inversed] for b_col in [list(row) for row in zip(*B)]]\n",
        "  P=[list(row) for row in zip(*P_transposed)] #because the basis are the cols\n",
        "  return np.round(P,4)\n",
        "\n",
        "transform_basis(B,C)\n"
      ],
      "metadata": {
        "colab": {
          "base_uri": "https://localhost:8080/"
        },
        "id": "3nTZVQsKoiog",
        "outputId": "e81bfdf9-829a-4ee2-9b33-b2f4cf213f40"
      },
      "execution_count": null,
      "outputs": [
        {
          "output_type": "execute_result",
          "data": {
            "text/plain": [
              "array([[-0.6772, -0.0126,  0.2342],\n",
              "       [-0.0184,  0.0505, -0.0275],\n",
              "       [ 0.5732, -0.0345, -0.0569]])"
            ]
          },
          "metadata": {},
          "execution_count": 23
        }
      ]
    },
    {
      "cell_type": "code",
      "source": [
        "import numpy as np\n",
        "def transform_basis(B: list[list[int]], C: list[list[int]]) -> list[list[float]]:\n",
        "  inverse_dest_basis=np.linalg.inv(C)\n",
        "  P=inverse_dest_basis.dot(B)\n",
        "\n",
        "  return np.round(P,4)\n",
        "\n",
        "\n",
        "transform_basis(B,C)"
      ],
      "metadata": {
        "colab": {
          "base_uri": "https://localhost:8080/"
        },
        "id": "O3NvRVuhcNuN",
        "outputId": "a898f273-74ae-4877-b85f-b60f944294ab"
      },
      "execution_count": null,
      "outputs": [
        {
          "output_type": "execute_result",
          "data": {
            "text/plain": [
              "array([[-0.6772, -0.0126,  0.2342],\n",
              "       [-0.0184,  0.0505, -0.0275],\n",
              "       [ 0.5732, -0.0345, -0.0569]])"
            ]
          },
          "metadata": {},
          "execution_count": 12
        }
      ]
    },
    {
      "cell_type": "markdown",
      "source": [
        "##Reshape Matrix (easy) ✔\n",
        "Write a Python function that reshapes a given matrix into a specified shape."
      ],
      "metadata": {
        "id": "AgMA32Tt1i2f"
      }
    },
    {
      "cell_type": "code",
      "source": [
        "import numpy as np\n",
        "\n",
        "def reshape_matrix(a: list[list[int|float]], new_shape: tuple[int, int]) -> list[list[int|float]]:\n",
        "\t#Write your code here and return a python list after reshaping by using numpy's tolist() method\n",
        "\t#Find a way o assert it can be reshaped\n",
        "  numbers_count=sum(len(row) for row in a)\n",
        "  required_count=new_shape[0]*new_shape[1]\n",
        "  if numbers_count!=required_count:\n",
        "    return \"It can't be reshaped\"\n",
        "  reshaped_matrix= np.array(a).reshape(new_shape).tolist()\n",
        "  return reshaped_matrix"
      ],
      "metadata": {
        "id": "s8Q-QyH40lkr"
      },
      "execution_count": null,
      "outputs": []
    },
    {
      "cell_type": "code",
      "source": [
        "import numpy as np\n",
        "\n",
        "def reshape_matrix(a: list[list[int|float]], new_shape: tuple[int, int]) -> list[list[int|float]]:\n",
        "\t#Write your code here and return a python list after reshaping by using numpy's tolist() method\n",
        "    a=np.array(a)\n",
        "    if a.size == np.prod(new_shape) :\n",
        "        reshaped_matrix=np.reshape(a,new_shape).tolist()\n",
        "        return reshaped_matrix\n",
        "\n",
        "    else:\n",
        "        return []\n"
      ],
      "metadata": {
        "id": "zgWRrZnJf4Zr"
      },
      "execution_count": null,
      "outputs": []
    },
    {
      "cell_type": "code",
      "source": [
        "#test reshape matrix\n",
        "a=[[1,2],[3,4],[5,6]]\n",
        "new_shape=(2,3)\n",
        "reshape_matrix(a,new_shape)\n",
        "#test when can't be reshaped\n",
        "# new_shape=(3,3)\n",
        "# reshape_matrix(a,new_shape)"
      ],
      "metadata": {
        "colab": {
          "base_uri": "https://localhost:8080/"
        },
        "id": "WekLGOdmZXgi",
        "outputId": "611b127d-0530-478a-92a9-a9ab32991846"
      },
      "execution_count": null,
      "outputs": [
        {
          "output_type": "execute_result",
          "data": {
            "text/plain": [
              "[[1, 2, 3], [4, 5, 6]]"
            ]
          },
          "metadata": {},
          "execution_count": 18
        }
      ]
    },
    {
      "cell_type": "markdown",
      "source": [
        "##Convert Vector to Diagonal Matrix(easy) ✔\n",
        "Write a Python function to convert a 1D numpy array into a diagonal matrix. The function should take in a 1D numpy array x and return a 2D numpy array representing the diagonal matrix."
      ],
      "metadata": {
        "id": "3vWyXBdBaXVO"
      }
    },
    {
      "cell_type": "code",
      "source": [
        "x = np.array([1, 2, 3])"
      ],
      "metadata": {
        "id": "phP9Dnu-ZkI_"
      },
      "execution_count": null,
      "outputs": []
    },
    {
      "cell_type": "code",
      "source": [
        "import numpy as np\n",
        "#Using for loop and zeros matrix\n",
        "def make_diagonal(x):\n",
        "\t# Your code here\n",
        "\tlength=len(x)\n",
        "\toutput=np.zeros((length,length))\n",
        "\tfor i in range(length):\n",
        "\t\toutput[i][i]=x[i]\n",
        "\treturn output\n",
        "\n",
        "make_diagonal(x)"
      ],
      "metadata": {
        "colab": {
          "base_uri": "https://localhost:8080/"
        },
        "id": "rJ6S6Tj-ab2T",
        "outputId": "b92cfa5b-9a03-4a37-f0bf-8fa87a9e4ddb"
      },
      "execution_count": null,
      "outputs": [
        {
          "output_type": "execute_result",
          "data": {
            "text/plain": [
              "array([[1., 0., 0.],\n",
              "       [0., 2., 0.],\n",
              "       [0., 0., 3.]])"
            ]
          },
          "metadata": {},
          "execution_count": 20
        }
      ]
    },
    {
      "cell_type": "code",
      "source": [
        "def make_diagonal(x):\n",
        "  Identity=np.identity(len(x))\n",
        "  #Broadcasting; x is (1,n), then it's duplicated as (n,n) to do element-wise multiplication\n",
        "  #No Loops!\n",
        "  output=Identity*x #element wise multiplication\n",
        "  return output\n",
        "make_diagonal(x)"
      ],
      "metadata": {
        "colab": {
          "base_uri": "https://localhost:8080/"
        },
        "id": "0PYKsNDLbAVS",
        "outputId": "6aa6ab7a-508b-43f7-bd59-b74ec6974559"
      },
      "execution_count": null,
      "outputs": [
        {
          "output_type": "execute_result",
          "data": {
            "text/plain": [
              "array([[1., 0., 0.],\n",
              "       [0., 2., 0.],\n",
              "       [0., 0., 3.]])"
            ]
          },
          "metadata": {},
          "execution_count": 22
        }
      ]
    },
    {
      "cell_type": "code",
      "source": [
        "import numpy as np\n",
        "\n",
        "def make_diagonal(x):\n",
        "\t# Your code here\n",
        "    X=np.diag(x)\n",
        "    return X\n",
        "make_diagonal(x)"
      ],
      "metadata": {
        "colab": {
          "base_uri": "https://localhost:8080/"
        },
        "id": "99667v3wjX0e",
        "outputId": "156d4b63-9a28-443c-b642-a0cb9f5dfbbe"
      },
      "execution_count": null,
      "outputs": [
        {
          "output_type": "execute_result",
          "data": {
            "text/plain": [
              "array([[1, 0, 0],\n",
              "       [0, 2, 0],\n",
              "       [0, 0, 3]])"
            ]
          },
          "metadata": {},
          "execution_count": 23
        }
      ]
    },
    {
      "cell_type": "markdown",
      "source": [
        "##Calculate Mean by Row or Column (easy) ✔\n",
        "Write a Python function that calculates the mean of a matrix either by row or by column, based on a given mode. The function should take a matrix (list of lists) and a mode ('row' or 'column') as input and return a list of means according to the specified mode."
      ],
      "metadata": {
        "id": "Y-aFily3bm-U"
      }
    },
    {
      "cell_type": "code",
      "source": [
        "def calculate_matrix_mean(matrix: list[list[float]], mode: str) -> list[float]:\n",
        "\tif mode == 'column':\n",
        "\t\treturn [sum(col)/len(col) for col in zip(*matrix)]\n",
        "\telif mode == \"row\":\n",
        "\t\treturn [sum(row)/len(row) for row in matrix]\n",
        "\telse:\n",
        "\t\treturn \"You didn't specify a mode: row,column\"\n",
        "\n",
        "#test calculate_matrix_mean\n",
        "matrix=[[1,2,3],[4,5,6]]\n",
        "mode=\"row\"\n",
        "calculate_matrix_mean(matrix,mode)"
      ],
      "metadata": {
        "colab": {
          "base_uri": "https://localhost:8080/"
        },
        "id": "PzvHA3pGbTp-",
        "outputId": "6796082c-d752-434d-8d49-a9e9c9622df1"
      },
      "execution_count": null,
      "outputs": [
        {
          "output_type": "execute_result",
          "data": {
            "text/plain": [
              "[2.0, 5.0]"
            ]
          },
          "metadata": {},
          "execution_count": 27
        }
      ]
    },
    {
      "cell_type": "code",
      "source": [
        "#Naming the axis of summing\n",
        "mean_across_rows = np.mean(matrix, axis=0)\n",
        "print(\"Mean across rows (for each column):\", mean_across_rows)\n",
        "\n",
        "mean_across_cols = np.mean(matrix, axis=1)\n",
        "print(\"Mean across columns (for each row):\", mean_across_cols)"
      ],
      "metadata": {
        "colab": {
          "base_uri": "https://localhost:8080/"
        },
        "id": "qOCFEyyyoGVR",
        "outputId": "a71936ea-4418-4aa8-b7d7-72a6f4df7bea"
      },
      "execution_count": null,
      "outputs": [
        {
          "output_type": "stream",
          "name": "stdout",
          "text": [
            "Mean across rows (for each column): [2.5 3.5 4.5]\n",
            "Mean across columns (for each row): [2. 5.]\n"
          ]
        }
      ]
    },
    {
      "cell_type": "code",
      "source": [
        "import numpy as np\n",
        "def calculate_matrix_mean(matrix: list[list[float]], mode: str) -> list[float]:\n",
        "    if mode == \"row\":\n",
        "        means=np.mean(matrix,axis=1)\n",
        "    else:\n",
        "        means=np.mean(matrix,axis=0)\n",
        "    return means\n",
        "\n",
        "calculate_matrix_mean(matrix,mode)"
      ],
      "metadata": {
        "colab": {
          "base_uri": "https://localhost:8080/"
        },
        "id": "1uPWTRUTmq-J",
        "outputId": "0a1845c3-43b8-450a-dbda-f50e565910d6"
      },
      "execution_count": null,
      "outputs": [
        {
          "output_type": "execute_result",
          "data": {
            "text/plain": [
              "array([2., 5.])"
            ]
          },
          "metadata": {},
          "execution_count": 28
        }
      ]
    },
    {
      "cell_type": "markdown",
      "source": [
        "##Scalar Multiplication of a Matrix (easy) ✔\n",
        "Write a Python function that multiplies a matrix by a scalar and returns the result."
      ],
      "metadata": {
        "id": "qcpok1oMgEO7"
      }
    },
    {
      "cell_type": "code",
      "source": [
        "#Using list comprehension\n",
        "def scalar_multiply(matrix: list[list[int|float]], scalar: int|float) -> list[list[int|float]]:\n",
        "\treturn [[element * scalar for element in row] for row in matrix]\n",
        "\n",
        "#Test scalar_multiply\n",
        "matrix=[[1,2,3],[4,5,6]]\n",
        "scalar=2\n",
        "scalar_multiply(matrix,scalar)"
      ],
      "metadata": {
        "colab": {
          "base_uri": "https://localhost:8080/"
        },
        "id": "ya5fG_Xkf4YR",
        "outputId": "04a8ab63-c4eb-4a47-de3c-3cb041431d74"
      },
      "execution_count": null,
      "outputs": [
        {
          "output_type": "execute_result",
          "data": {
            "text/plain": [
              "[[2, 4, 6], [8, 10, 12]]"
            ]
          },
          "metadata": {},
          "execution_count": 33
        }
      ]
    },
    {
      "cell_type": "code",
      "source": [
        "#Using numpy and broadcasting\n",
        "import numpy as np\n",
        "def scalar_multiply(matrix: list[list[int|float]], scalar: int|float) -> list[list[int|float]]:\n",
        "\t# matrix*scalar==> duplicates, to perform has to be numpy\n",
        "\treturn (np.array(matrix)*scalar).tolist()\n",
        "\n",
        "\n",
        "\n",
        "\n",
        "#test scalar_multiply\n",
        "matrix=[[1,2,3],[4,5,6]]\n",
        "scalar=2\n",
        "scalar_multiply(matrix,scalar)\n"
      ],
      "metadata": {
        "colab": {
          "base_uri": "https://localhost:8080/"
        },
        "id": "SuCh2BJ4hfKx",
        "outputId": "f54f2d83-d906-48d2-a33d-79c458a857ba"
      },
      "execution_count": null,
      "outputs": [
        {
          "output_type": "execute_result",
          "data": {
            "text/plain": [
              "[[2, 4, 6], [8, 10, 12]]"
            ]
          },
          "metadata": {},
          "execution_count": 34
        }
      ]
    },
    {
      "cell_type": "code",
      "source": [
        "import numpy as np\n",
        "def scalar_multiply(matrix: list[list[int|float]], scalar: int|float) -> list[list[int|float]]:\n",
        "    matrix=np.array(matrix)\n",
        "    result=scalar*matrix\n",
        "    return result.tolist()\n",
        "\n",
        "\n",
        "scalar_multiply(matrix,scalar)\n"
      ],
      "metadata": {
        "id": "rFogv3Fqpwmu",
        "outputId": "66b7d629-ab6e-43ad-89c3-ea43a8129857",
        "colab": {
          "base_uri": "https://localhost:8080/"
        }
      },
      "execution_count": null,
      "outputs": [
        {
          "output_type": "execute_result",
          "data": {
            "text/plain": [
              "[[2, 4, 6], [8, 10, 12]]"
            ]
          },
          "metadata": {},
          "execution_count": 35
        }
      ]
    },
    {
      "cell_type": "markdown",
      "source": [
        "##Implement Compressed Row Sparse Matrix (CSR) Format Conversion (easy) ✔\n",
        "Write a function compressed_row_sparse_matrix(dense_matrix) that takes a 2D list dense_matrix as input and returns a tuple containing three lists:\n",
        "\n",
        "Values array: List of all non-zero elements in row-major order.\n",
        "Column indices array: Column index for each non-zero element in the values array.\n",
        "Row pointer array: Cumulative number of non-zero elements per row, to indicate the start of each row in the values array."
      ],
      "metadata": {
        "id": "KEPDZRCXqNyI"
      }
    },
    {
      "cell_type": "code",
      "source": [
        "def compressed_row_sparse_matrix(dense_matrix):\n",
        "\t\"\"\"\n",
        "\tConvert a dense matrix to its Compressed Row Sparse (CSR) representation.\n",
        "\n",
        "\t:param dense_matrix: 2D list representing a dense matrix\n",
        "\t:return: A tuple containing (values array, column indices array, row pointer array)\n",
        "\t\"\"\"\n",
        "\tvals=[]\n",
        "\tcol_idx=[]\n",
        "\trow_ptr=[0]\n",
        "\tfor row in dense_matrix:\n",
        "\t\tfor i,val in enumerate(row):\n",
        "\t\t\tif val != 0:\n",
        "\t\t\t\tvals.append(val)\n",
        "\t\t\t\tcol_idx.append(i)\n",
        "\n",
        "\t\trow_ptr.append(len(vals))\n",
        "\n",
        "\treturn vals, col_idx,row_ptr\n",
        "\n"
      ],
      "metadata": {
        "id": "99FsLLxPqNGw"
      },
      "execution_count": 4,
      "outputs": []
    },
    {
      "cell_type": "code",
      "source": [
        "dense_matrix = [\n",
        "    [1, 0, 0, 0],\n",
        "    [0, 2, 0, 0],\n",
        "    [3, 0, 4, 0],\n",
        "    [1, 0, 0, 5]\n",
        "]\n",
        "compressed_row_sparse_matrix(dense_matrix)"
      ],
      "metadata": {
        "colab": {
          "base_uri": "https://localhost:8080/"
        },
        "id": "89pO1n4Z3HFL",
        "outputId": "e993015c-ab06-4042-9984-c7413f1055d4"
      },
      "execution_count": 10,
      "outputs": [
        {
          "output_type": "execute_result",
          "data": {
            "text/plain": [
              "([1, 2, 3, 4, 1, 5], [0, 1, 0, 2, 0, 3], [0, 1, 2, 4, 6])"
            ]
          },
          "metadata": {},
          "execution_count": 10
        }
      ]
    },
    {
      "cell_type": "code",
      "source": [
        "#Using Scipy\n",
        "from scipy.sparse import csr_matrix\n",
        "csr = csr_matrix(dense_matrix)\n",
        "print(\"Values array:\", csr.data)\n",
        "print(\"Column indices array:\", csr.indices)\n",
        "print(\"Row pointer array:\", csr.indptr)"
      ],
      "metadata": {
        "colab": {
          "base_uri": "https://localhost:8080/"
        },
        "id": "DQ-7TUGv3g2J",
        "outputId": "c4a611a7-4aa6-4a56-f254-2bc169528cd0"
      },
      "execution_count": 6,
      "outputs": [
        {
          "output_type": "stream",
          "name": "stdout",
          "text": [
            "Values array: [1 2 3 4 1 5]\n",
            "Column indices array: [0 1 0 2 0 3]\n",
            "Row pointer array: [0 1 2 4 6]\n"
          ]
        }
      ]
    },
    {
      "cell_type": "markdown",
      "source": [
        "##Implement Compressed Column Sparse Matrix Format (CSC) (easy) ✔\n",
        "Your task is to implement a function that converts a dense matrix into its Compressed Column Sparse (CSC) representation. The CSC format stores only non-zero elements of the matrix and is efficient for matrices with a high number of zero elements.\n",
        "\n",
        "Write a function compressed_col_sparse_matrix(dense_matrix) that takes in a two-dimensional list dense_matrix and returns a tuple of three lists:\n",
        "\n",
        "values: List of non-zero elements, stored in column-major order.\n",
        "row indices: List of row indices corresponding to each value in the values array.\n",
        "column pointer: List that indicates the starting index of each column in the values array.\n",
        "\n"
      ],
      "metadata": {
        "id": "MlaZtZa9uUZM"
      }
    },
    {
      "cell_type": "code",
      "source": [
        "def compressed_col_sparse_matrix(dense_matrix):\n",
        "\n",
        "\t\"\"\"\n",
        "\tConvert a dense matrix into its Compressed Column Sparse (CSC) representation.\n",
        "\n",
        "\t:param dense_matrix: List of lists representing the dense matrix\n",
        "\t:return: Tuple of (values, row indices, column pointer)\n",
        "\t\"\"\"\n",
        "\n",
        "\tvals=[]\n",
        "\trow_idx=[]\n",
        "\tcol_ptr=[0]\n",
        "\tfor row in zip(*dense_matrix):\n",
        "\t\tfor i,val in enumerate(row):\n",
        "\t\t\tif val != 0:\n",
        "\t\t\t\tvals.append(val)\n",
        "\t\t\t\trow_idx.append(i)\n",
        "\n",
        "\t\tcol_ptr.append(len(vals))\n",
        "\n",
        "\treturn vals, row_idx,col_ptr\n",
        "\n"
      ],
      "metadata": {
        "id": "I_NPLM3owUDU"
      },
      "execution_count": 24,
      "outputs": []
    },
    {
      "cell_type": "code",
      "source": [
        "dense_matrix = [\n",
        "    [1, 0, 0, 0],\n",
        "    [0, 2, 0, 0],\n",
        "    [3, 0, 4, 0],\n",
        "    [1, 0, 0, 5]\n",
        "]\n",
        "compressed_col_sparse_matrix(dense_matrix)"
      ],
      "metadata": {
        "colab": {
          "base_uri": "https://localhost:8080/"
        },
        "id": "oi7XY3bqwC5o",
        "outputId": "64273a1b-1963-4c12-de58-6e5785a4dadd"
      },
      "execution_count": 26,
      "outputs": [
        {
          "output_type": "execute_result",
          "data": {
            "text/plain": [
              "([1, 3, 1, 2, 4, 5], [0, 2, 3, 1, 2, 3], [0, 3, 4, 5, 6])"
            ]
          },
          "metadata": {},
          "execution_count": 26
        }
      ]
    },
    {
      "cell_type": "code",
      "source": [
        "#Using Scipy\n",
        "from scipy.sparse import csc_matrix\n",
        "csc = csc_matrix(dense_matrix)\n",
        "print(\"Values array:\", csc.data)\n",
        "print(\"Column indices array:\", csc.indices)\n",
        "print(\"Row pointer array:\", csc.indptr)"
      ],
      "metadata": {
        "colab": {
          "base_uri": "https://localhost:8080/"
        },
        "id": "2HaS9PFxxWp1",
        "outputId": "1750e835-9e9e-47ec-b700-d977ab354d94"
      },
      "execution_count": 28,
      "outputs": [
        {
          "output_type": "stream",
          "name": "stdout",
          "text": [
            "Values array: [1 3 1 2 4 5]\n",
            "Column indices array: [0 2 3 1 2 3]\n",
            "Row pointer array: [0 3 4 5 6]\n"
          ]
        }
      ]
    },
    {
      "cell_type": "markdown",
      "source": [
        "##Implement Orthogonal Projection of a Vector onto a Line (easy) ✔\n",
        "Write a function orthogonal_projection(v, L) that takes in two lists, v (the vector to be projected) and L (the line vector), and returns the orthogonal projection of v onto L. The function should output a list representing the projection vector rounded to three decimal places.\n",
        "\n"
      ],
      "metadata": {
        "id": "63jS4RXgqOug"
      }
    },
    {
      "cell_type": "code",
      "source": [
        "import numpy as np\n",
        "def orthogonal_projection(v, L):\n",
        "\t\"\"\"\n",
        "\tCompute the orthogonal projection of vector v onto line L.\n",
        "\n",
        "\t:param v: The vector to be projected\n",
        "\t:param L: The line vector defining the direction of projection\n",
        "\t:return: List representing the projection of v onto L\n",
        "\t\"\"\"\n",
        "\tv=np.array(v,dtype=float)\n",
        "\tL=np.array(L,dtype=float)\n",
        "\tVector = (np.dot(v, L) / np.dot(L, L)) * L\n",
        "\n",
        "\treturn np.round(Vector,3)\n",
        "\n",
        "\n",
        "\n",
        "v = [3, 4]\n",
        "L = [1, 0]\n",
        "orthogonal_projection(v,L)"
      ],
      "metadata": {
        "colab": {
          "base_uri": "https://localhost:8080/"
        },
        "id": "N5jm16NkqP0u",
        "outputId": "cfbd4b7e-04ed-4bc8-b101-37942a5ce617"
      },
      "execution_count": 32,
      "outputs": [
        {
          "output_type": "execute_result",
          "data": {
            "text/plain": [
              "array([3., 0.])"
            ]
          },
          "metadata": {},
          "execution_count": 32
        }
      ]
    },
    {
      "cell_type": "markdown",
      "source": [],
      "metadata": {
        "id": "pQSDctO53J6d"
      }
    },
    {
      "cell_type": "markdown",
      "source": [
        "##Calculate Cosine Similarity Between Vectors (easy) ✔\n",
        "In this task, you need to implement a function cosine_similarity(v1, v2) that calculates the cosine similarity between two vectors. Cosine similarity measures the cosine of the angle between two vectors, indicating their directional similarity.\n",
        "\n",
        "Input:\n",
        "v1 and v2: Numpy arrays representing the input vectors.\n",
        "Output:\n",
        "A float representing the cosine similarity, rounded to three decimal places.\n",
        "Constraints:\n",
        "Both input vectors must have the same shape.\n",
        "Input vectors cannot be empty or have zero magnitude.\n",
        "\n"
      ],
      "metadata": {
        "id": "54xGrlBi3KVe"
      }
    },
    {
      "cell_type": "code",
      "source": [
        "import numpy as np\n",
        "\n",
        "def cosine_similarity(v1, v2):\n",
        "    v1 = np.array(v1, dtype=float)\n",
        "    v2 = np.array(v2, dtype=float)\n",
        "\n",
        "    if v1.shape != v2.shape:\n",
        "        print(\"Vectors don't have the right shapes!\")\n",
        "        return None\n",
        "\n",
        "    mag_v1 = np.linalg.norm(v1)\n",
        "    mag_v2 = np.linalg.norm(v2)\n",
        "\n",
        "    if mag_v1 == 0 or mag_v2 == 0:\n",
        "        print(\"The magnitudes are zero.\")\n",
        "        return None\n",
        "\n",
        "    similarity = np.dot(v1, v2) / (mag_v1 * mag_v2)\n",
        "    return np.round(similarity, 3)\n"
      ],
      "metadata": {
        "id": "cixXQE4_3KVf"
      },
      "execution_count": 33,
      "outputs": []
    },
    {
      "cell_type": "code",
      "source": [
        "v1 = np.array([1, 2, 3])\n",
        "v2 = np.array([2, 4, 6])\n",
        "\n",
        "result = cosine_similarity(v1, v2)\n",
        "print(result)\n"
      ],
      "metadata": {
        "colab": {
          "base_uri": "https://localhost:8080/"
        },
        "id": "F6v7kTzW7SSY",
        "outputId": "b8411281-c6ee-48d5-c552-035a320e819a"
      },
      "execution_count": 35,
      "outputs": [
        {
          "output_type": "stream",
          "name": "stdout",
          "text": [
            "1.0\n"
          ]
        }
      ]
    },
    {
      "cell_type": "markdown",
      "source": [
        "##Dot Product Calculator (easy) ✔\n",
        "\n",
        "Write a Python function to calculate the dot product of two vectors. The function should take two 1D NumPy arrays as input and return the dot product as a single number."
      ],
      "metadata": {
        "id": "v6PuTHHZSXZJ"
      }
    },
    {
      "cell_type": "code",
      "source": [
        "import numpy as np\n",
        "def calculate_dot_product(vec1, vec2) -> float:\n",
        "  \"\"\"\n",
        "\tCalculate the dot product of two vectors.\n",
        "\tArgs:\n",
        "\t\tvec1 (numpy.ndarray): 1D array representing the first vector.\n",
        "\t\tvec2 (numpy.ndarray): 1D array representing the second vector.\n",
        "\t\"\"\"\n",
        "  result=vec1.dot(vec2)\n",
        "  return float(result)\n"
      ],
      "metadata": {
        "id": "zB-YIo5mSWqo"
      },
      "execution_count": 7,
      "outputs": []
    },
    {
      "cell_type": "code",
      "source": [
        "vec1 = np.array([1, 2, 3])\n",
        "vec2 = np.array([4, 5, 6])\n",
        "calculate_dot_product(vec1, vec2)"
      ],
      "metadata": {
        "colab": {
          "base_uri": "https://localhost:8080/"
        },
        "id": "IS4xCfeGSY5Q",
        "outputId": "b5fa7527-0326-4fe5-d30e-c2c9ee94f376"
      },
      "execution_count": 8,
      "outputs": [
        {
          "output_type": "execute_result",
          "data": {
            "text/plain": [
              "32.0"
            ]
          },
          "metadata": {},
          "execution_count": 8
        }
      ]
    },
    {
      "cell_type": "markdown",
      "source": [],
      "metadata": {
        "id": "GnuzxJBrSYqa"
      }
    },
    {
      "cell_type": "markdown",
      "source": [
        "##Phi Transformation for Polynomial Features(easy) ✔\n",
        "\n",
        "Write a Python function to perform a Phi Transformation that maps input features into a higher-dimensional space by generating polynomial features. The transformation allows models like linear regression to fit nonlinear data by introducing new feature dimensions that represent polynomial combinations of the original input features. The function should take a list of numerical data and a degree as inputs, and return a nested list where each inner list represents the transformed features of a data point. If the degree is less than 0, the function should return an empty list.\n",
        "\n"
      ],
      "metadata": {
        "id": "rnrqRMBQvvHY"
      }
    },
    {
      "cell_type": "code",
      "source": [
        "import numpy as np\n",
        "def phi_transform(data: list[float], degree: int) -> list[list[float]]:\n",
        "  \"\"\"\n",
        "  Perform a Phi Transformation to map input features into a higher-dimensional space by generating polynomial features.\n",
        "\n",
        "  Args:\n",
        "    data (list[float]): A list of numerical values to transform.\n",
        "    degree (int): The degree of the polynomial expansion.\n",
        "  \"\"\"\n",
        "  result=[]\n",
        "  for x in data:\n",
        "    result.append([x**deg for deg in range(degree+1)])\n",
        "\n",
        "  return result"
      ],
      "metadata": {
        "id": "pK0Qiln2vv7o"
      },
      "execution_count": 11,
      "outputs": []
    },
    {
      "cell_type": "code",
      "source": [
        "data = [1.0, 2.0]\n",
        "degree = 2\n",
        "phi_transform(data,degree)"
      ],
      "metadata": {
        "colab": {
          "base_uri": "https://localhost:8080/"
        },
        "id": "jeUY2LfIvvzl",
        "outputId": "64133f72-4ae6-4631-8c9a-c3337a621ce2"
      },
      "execution_count": 12,
      "outputs": [
        {
          "output_type": "execute_result",
          "data": {
            "text/plain": [
              "[[1.0, 1.0, 1.0], [1.0, 2.0, 4.0]]"
            ]
          },
          "metadata": {},
          "execution_count": 12
        }
      ]
    },
    {
      "cell_type": "markdown",
      "source": [],
      "metadata": {
        "id": "4B_WNbZzoZC2"
      }
    },
    {
      "cell_type": "markdown",
      "source": [
        "##Vector Element-wise Sum (easy) ✔\n",
        "Write a Python function that computes the element-wise sum of two vectors. The function should return a new vector representing the resulting sum if the operation is valid, or -1 if the vectors have incompatible dimensions. Two vectors (lists) can be summed element-wise only if they are of the same length."
      ],
      "metadata": {
        "id": "3slLaMpSoZZp"
      }
    },
    {
      "cell_type": "code",
      "source": [
        "def vector_sum(a: list[int|float], b: list[int|float]) -> list[int|float]:\n",
        "\t# Return the element-wise sum of vectors 'a' and 'b'.\n",
        "\t# If vectors have different lengths, return -1.\n",
        "    if len(a) == len(b):\n",
        "        return [sum(i) for i in zip(a,b)]\n",
        "    else:\n",
        "        return -1\n",
        "\n",
        "vector_sum([1, 2], [3])"
      ],
      "metadata": {
        "colab": {
          "base_uri": "https://localhost:8080/"
        },
        "id": "jQifIof6oaSj",
        "outputId": "1adfe3bd-a6fa-4de9-8c8f-0014ec4ca053"
      },
      "execution_count": 2,
      "outputs": [
        {
          "output_type": "execute_result",
          "data": {
            "text/plain": [
              "-1"
            ]
          },
          "metadata": {},
          "execution_count": 2
        }
      ]
    },
    {
      "cell_type": "markdown",
      "source": [
        "##Compute the Cross Product of Two 3D Vectors (easy) ✔\n",
        "Implement a function to compute the cross product of two 3-dimensional vectors. The cross product of two vectors results in a third vector that is perpendicular to both and follows the right-hand rule. This concept is fundamental in physics, engineering, and 3D graphics.\n",
        "\n"
      ],
      "metadata": {
        "id": "SSYeViAa5Irz"
      }
    },
    {
      "cell_type": "code",
      "source": [
        "import numpy as np\n",
        "\n",
        "def cross_product(a, b):\n",
        "    # Your code here\n",
        "    if len(a) == len(b):\n",
        "         return np.cross(a,b)"
      ],
      "metadata": {
        "id": "B-giwvU-5H0k"
      },
      "execution_count": 3,
      "outputs": []
    },
    {
      "cell_type": "markdown",
      "source": [
        "#Linear Algebra Medium (13 problems)!"
      ],
      "metadata": {
        "id": "bZssoA-Nin0v"
      }
    },
    {
      "cell_type": "markdown",
      "source": [
        "##Calculate Covariance Matrix (medium) ✔\n",
        "Write a Python function that calculates the covariance matrix from a list of vectors. Assume that the input list represents a dataset where each vector is a feature, and vectors are of equal length.\n",
        "\n",
        "\n",
        "### Covariance Equations\n",
        "\n",
        "1. **Covariance using Expected Value (E)**:\n",
        "\n",
        "   $$\n",
        "   \\text{Cov}(X, Y) = \\mathbb{E}[(X - \\mathbb{E}[X])(Y - \\mathbb{E}[Y])]\n",
        "   $$\n",
        "\n",
        "2. **Covariance using Summation**:\n",
        "\n",
        "   $$\n",
        "   \\text{Cov}(X, Y) = \\frac{\\sum_{i=1}^{n}(x_i - \\bar{x})(y_i - \\bar{y})}{n-1}\n",
        "   $$\n"
      ],
      "metadata": {
        "id": "9SxqF6j1i7ac"
      }
    },
    {
      "cell_type": "code",
      "source": [
        "import numpy as np\n",
        "def calculate_covariance_matrix(vectors: list[list[float]]) -> list[list[float]]:\n",
        "\tlength= len(vectors)\n",
        "\tsamples_length= len(vectors[0])\n",
        "\trows_means= [sum(feature)/samples_length for feature in vectors]\n",
        "\tcovariance_matrix=np.zeros((length,length))\n",
        "  #Default axis=0,\n",
        "\tcovariance_matrix=[[ ( ( np.sum((np.array(vectors[i])-rows_means[i])*(np.array(vectors[j])-rows_means[j]))  ) /(samples_length-1) ) for j in range(length) ] for i in range(length)]\n",
        "\treturn np.round(covariance_matrix,1)\n",
        "\n",
        "#test calculate_covariance_matrix\n",
        "vectors = [[1, 2, 3], [4, 5, 6]]\n",
        "calculate_covariance_matrix(vectors)\n"
      ],
      "metadata": {
        "colab": {
          "base_uri": "https://localhost:8080/"
        },
        "id": "jGRRUGv3nkXJ",
        "outputId": "44fc8530-7b2a-4eda-902e-5dfbf6fc2ee3"
      },
      "execution_count": null,
      "outputs": [
        {
          "output_type": "execute_result",
          "data": {
            "text/plain": [
              "array([[1., 1.],\n",
              "       [1., 1.]])"
            ]
          },
          "metadata": {},
          "execution_count": 58
        }
      ]
    },
    {
      "cell_type": "code",
      "source": [
        "import numpy as np\n",
        "def calculate_covariance_matrix(vectors: list[list[float]]) -> list[list[float]]:\n",
        "    data = np.array(vectors, dtype=np.float64)\n",
        "    #unbiased estimator\n",
        "    covariance_matrix = np.cov(data, bias=False)\n",
        "    covariance_matrix_rounded = np.round(covariance_matrix, 1)\n",
        "    return covariance_matrix_rounded.tolist()\n",
        "\n",
        "#test calculate_covariance_matrix\n",
        "vectors = [[1, 2, 3], [4, 5, 6]]\n",
        "calculate_covariance_matrix(vectors)"
      ],
      "metadata": {
        "colab": {
          "base_uri": "https://localhost:8080/"
        },
        "id": "O8c6OiUgr8Yu",
        "outputId": "d4e75218-9fe7-453f-fc29-b5f494dbf4b5"
      },
      "execution_count": null,
      "outputs": [
        {
          "output_type": "execute_result",
          "data": {
            "text/plain": [
              "[[1.0, 1.0], [1.0, 1.0]]"
            ]
          },
          "metadata": {},
          "execution_count": 59
        }
      ]
    },
    {
      "cell_type": "markdown",
      "source": [
        "##Matrix Transformation (medium) ✔\n",
        "Write a Python function that transforms a given matrix A using the operation\n",
        "$\n",
        "T^{(−1)}\n",
        "A\n",
        "S$\n",
        ", where T and S are invertible matrices. The function should first validate if the matrices T and S are invertible, and then perform the transformation. In cases where there is no solution return -1\n",
        "\n"
      ],
      "metadata": {
        "id": "7yxM8v58Yriq"
      }
    },
    {
      "cell_type": "code",
      "source": [
        "import numpy as np\n",
        "\n",
        "def transform_matrix(A: list[list[int|float]], T: list[list[int|float]], S: list[list[int|float]]) -> list[list[int|float]]:\n",
        "    A=np.array(A,dtype=float)\n",
        "    T=np.array(T,dtype=float)\n",
        "    S=np.array(S,dtype=float)\n",
        "\n",
        "\n",
        "    detT=np.isclose(np.linalg.det(T), 0)\n",
        "    detS=np.isclose(np.linalg.det(S),0)\n",
        "\n",
        "\n",
        "    if  detT or  detS:\n",
        "      return -1\n",
        "    else:\n",
        "        return (np.linalg.inv(T)) @ A @ S\n"
      ],
      "metadata": {
        "id": "en5XV5FlYrPi"
      },
      "execution_count": 24,
      "outputs": []
    },
    {
      "cell_type": "code",
      "source": [
        "A = [[1, 0],\n",
        "     [0, 1]]\n",
        "\n",
        "T = [[2, 1],\n",
        "     [0, 1]]        # det = 2  ≠ 0  (invertible)\n",
        "S = [[1, 3],\n",
        "     [0, 1]]        # det = 1  ≠ 0  (invertible)\n",
        "\n",
        "print(transform_matrix(A, T, S))\n"
      ],
      "metadata": {
        "colab": {
          "base_uri": "https://localhost:8080/"
        },
        "id": "YHv--QRiF3ec",
        "outputId": "d983eb51-5ec6-4ed8-b875-fc9ab8af5a90"
      },
      "execution_count": 25,
      "outputs": [
        {
          "output_type": "stream",
          "name": "stdout",
          "text": [
            "[[0.5 1. ]\n",
            " [0.  1. ]]\n"
          ]
        }
      ]
    },
    {
      "cell_type": "markdown",
      "source": [
        "##Calculate 2x2 Matrix Inverse (medium) ✔\n",
        "Write a Python function that calculates the inverse of a 2x2 matrix. Return 'None' if the matrix is not invertible.\n",
        "\n",
        "\n",
        "\n"
      ],
      "metadata": {
        "id": "lGKcjXAXzS5b"
      }
    },
    {
      "cell_type": "code",
      "source": [
        "import numpy as np\n",
        "def inverse_2x2(matrix: list[list[float]]) -> list[list[float]]:\n",
        "    detM=np.linalg.det(matrix)\n",
        "    if np.isclose(detM,0):\n",
        "        return None\n",
        "    inverse=np.linalg.inv(matrix)\n",
        "    return inverse"
      ],
      "metadata": {
        "id": "6kvIQpmXF5Fi"
      },
      "execution_count": 26,
      "outputs": []
    },
    {
      "cell_type": "code",
      "source": [],
      "metadata": {
        "id": "rkai7Pgjzd_K"
      },
      "execution_count": null,
      "outputs": []
    }
  ]
}