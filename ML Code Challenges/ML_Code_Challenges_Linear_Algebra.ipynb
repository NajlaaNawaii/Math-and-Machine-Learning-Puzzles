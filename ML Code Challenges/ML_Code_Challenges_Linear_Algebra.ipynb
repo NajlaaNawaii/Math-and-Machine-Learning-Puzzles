{
  "nbformat": 4,
  "nbformat_minor": 0,
  "metadata": {
    "colab": {
      "provenance": [],
      "authorship_tag": "ABX9TyMQAIIIJRuWWQtrajcAp7GP",
      "include_colab_link": true
    },
    "kernelspec": {
      "name": "python3",
      "display_name": "Python 3"
    },
    "language_info": {
      "name": "python"
    }
  },
  "cells": [
    {
      "cell_type": "markdown",
      "metadata": {
        "id": "view-in-github",
        "colab_type": "text"
      },
      "source": [
        "<a href=\"https://colab.research.google.com/github/NajlaaNawaii/Math-and-Machine-Learning-Puzzles/blob/main/ML%20Code%20Challenges/ML_Code_Challenges_Linear_Algebra.ipynb\" target=\"_parent\"><img src=\"https://colab.research.google.com/assets/colab-badge.svg\" alt=\"Open In Colab\"/></a>"
      ]
    },
    {
      "cell_type": "markdown",
      "source": [
        "##Matrix times Vector (easy) ✔\n",
        "Write a Python function that takes the dot product of a matrix and a vector. return -1 if the matrix could not be dotted with the vector"
      ],
      "metadata": {
        "id": "BMSNVkV2nO7N"
      }
    },
    {
      "cell_type": "code",
      "source": [
        "a=[[1,2],[3,4]]\n",
        "b=[5,6]"
      ],
      "metadata": {
        "id": "yLbCJJtljLmn"
      },
      "execution_count": 41,
      "outputs": []
    },
    {
      "cell_type": "code",
      "source": [
        "def matrix_dot_vector(a:list[list[int|float]],b:list[int|float])-> list[int|float]:\n",
        "  if len(a[0]) != len(b):\n",
        "\t  return -1\n",
        "\n",
        "  c=[0]*len(a)\n",
        "  for i in range(len(a)):\n",
        "    for j in range(len(a[i])):\n",
        "      c[i]+=a[i][j]*b[j]\n",
        "  return c\n",
        "\n",
        "matrix_dot_vector(a,b)"
      ],
      "metadata": {
        "colab": {
          "base_uri": "https://localhost:8080/"
        },
        "id": "2yUXY5QPkt2C",
        "outputId": "0b217d85-115c-4078-ae4b-66347845d5a9"
      },
      "execution_count": 42,
      "outputs": [
        {
          "output_type": "execute_result",
          "data": {
            "text/plain": [
              "[17, 39]"
            ]
          },
          "metadata": {},
          "execution_count": 42
        }
      ]
    },
    {
      "cell_type": "code",
      "source": [
        "#Using List comprehension\n",
        "def matrix_dot_vector(a: list[list[int | float]], b: list[int | float]) -> list[int | float]:\n",
        "    if len(a[0]) != len(b):\n",
        "        return -1\n",
        "    return [sum(a_row[col] * b[col] for col in range(len(a_row))) for a_row in a]\n",
        "\n",
        "matrix_dot_vector(a,b)"
      ],
      "metadata": {
        "colab": {
          "base_uri": "https://localhost:8080/"
        },
        "id": "FqBfz_cDmuD6",
        "outputId": "09d8a7c8-b5eb-45e3-aacc-20addfd44a4a"
      },
      "execution_count": 43,
      "outputs": [
        {
          "output_type": "execute_result",
          "data": {
            "text/plain": [
              "[17, 39]"
            ]
          },
          "metadata": {},
          "execution_count": 43
        }
      ]
    },
    {
      "cell_type": "markdown",
      "source": [
        "##Transpose of a Matrix (easy) ✔\n",
        "Write a Python function that computes the transpose of a given matrix."
      ],
      "metadata": {
        "id": "hRhNL-gZy_5M"
      }
    },
    {
      "cell_type": "code",
      "source": [
        "a=[[1,2],[3,4]]"
      ],
      "metadata": {
        "id": "NutVckEOzJnU"
      },
      "execution_count": 47,
      "outputs": []
    },
    {
      "cell_type": "code",
      "source": [
        "def transpose_matrix(a: list[list[int|float]]) -> list[list[int|float]]:\n",
        "\tb=[[0 for row in range(len(a))] for col in range(len(a[0]))]\n",
        "\tfor i in range(len(a[0])):\n",
        "\t\tfor j in range(len(a)):\n",
        "\t\t\tb[i][j]=a[j][i]\n",
        "\treturn b\n",
        "\n",
        "transpose_matrix(a)"
      ],
      "metadata": {
        "colab": {
          "base_uri": "https://localhost:8080/"
        },
        "id": "_UpoA_AYsTmE",
        "outputId": "5e962990-8bdc-492b-f3c0-fb4a708e4f04"
      },
      "execution_count": 45,
      "outputs": [
        {
          "output_type": "execute_result",
          "data": {
            "text/plain": [
              "[[1, 3], [2, 4]]"
            ]
          },
          "metadata": {},
          "execution_count": 45
        }
      ]
    },
    {
      "cell_type": "code",
      "source": [
        "#Using zip, it first unpack into tiples, returns a tuple of similar indices\n",
        "def transpose_matrix(a: list[list[int|float]]) -> list[list[int|float]]:\n",
        "  return [ list(row) for row in zip(*a)]\n",
        "\n",
        "transpose_matrix(a)"
      ],
      "metadata": {
        "colab": {
          "base_uri": "https://localhost:8080/"
        },
        "id": "X-qCRcCKzOMG",
        "outputId": "71a3ffec-5c10-420d-8467-047184c334ef"
      },
      "execution_count": 48,
      "outputs": [
        {
          "output_type": "execute_result",
          "data": {
            "text/plain": [
              "[[1, 3], [2, 4]]"
            ]
          },
          "metadata": {},
          "execution_count": 48
        }
      ]
    },
    {
      "cell_type": "markdown",
      "source": [
        "##Transformation Matrix from Basis B to C (easy) ✔\n",
        "Given basis vectors in two different bases B and C for R^3, write a Python function to compute the transformation matrix P from basis B to C.\n"
      ],
      "metadata": {
        "id": "de9B6UgQlxQI"
      }
    },
    {
      "cell_type": "code",
      "source": [
        "B = [[1, 0, 0],\n",
        "    [0, 1, 0],\n",
        "    [0, 0, 1]]\n",
        "C = [[1, 2.3, 3],\n",
        "    [4.4, 25, 6],\n",
        "    [7.4, 8, 9]]\n"
      ],
      "metadata": {
        "id": "aCe5I4bprHCd"
      },
      "execution_count": 21,
      "outputs": []
    },
    {
      "cell_type": "code",
      "source": [
        "import numpy as np\n",
        "def transform_basis(B: list[list[int]], C: list[list[int]]) -> list[list[float]]:\n",
        "\n",
        "  #it's only for creating list so don't forget [],Doing it the hard way!\n",
        "  C=np.array(C)\n",
        "  C_inversed=np.linalg.inv(C)\n",
        "\n",
        "  P_transposed = [[sum(c_row[col] * b_col[col] for col in range(len(c_row))) for c_row in C_inversed] for b_col in [list(row) for row in zip(*B)]]\n",
        "  P=[list(row) for row in zip(*P_transposed)] #because the basis are the cols\n",
        "  return np.round(P,4)\n",
        "\n",
        "transform_basis(B,C)\n"
      ],
      "metadata": {
        "colab": {
          "base_uri": "https://localhost:8080/"
        },
        "id": "3nTZVQsKoiog",
        "outputId": "e2675a00-8e21-41e6-fe4a-0c2be7ba724c"
      },
      "execution_count": 27,
      "outputs": [
        {
          "output_type": "execute_result",
          "data": {
            "text/plain": [
              "array([[-0.6772, -0.0126,  0.2342],\n",
              "       [-0.0184,  0.0505, -0.0275],\n",
              "       [ 0.5732, -0.0345, -0.0569]])"
            ]
          },
          "metadata": {},
          "execution_count": 27
        }
      ]
    },
    {
      "cell_type": "code",
      "source": [
        "import numpy as np\n",
        "def transform_basis(B: list[list[int]], C: list[list[int]]) -> list[list[float]]:\n",
        "\n",
        "  #it's only for creating list so don't forget [],Doing it the hard way!\n",
        "  B=np.array(B)\n",
        "  C=np.array(C)\n",
        "  C_inversed=np.linalg.inv(C)\n",
        "\n",
        "  P= C_inversed.dot(B)\n",
        "  return np.round(P,4)\n",
        "\n",
        "\n",
        "transform_basis(B,C)"
      ],
      "metadata": {
        "colab": {
          "base_uri": "https://localhost:8080/"
        },
        "id": "WV1XECGaqA9X",
        "outputId": "bcc5828a-378f-4744-d280-b29b22464599"
      },
      "execution_count": 26,
      "outputs": [
        {
          "output_type": "execute_result",
          "data": {
            "text/plain": [
              "array([[-0.6772, -0.0126,  0.2342],\n",
              "       [-0.0184,  0.0505, -0.0275],\n",
              "       [ 0.5732, -0.0345, -0.0569]])"
            ]
          },
          "metadata": {},
          "execution_count": 26
        }
      ]
    },
    {
      "cell_type": "markdown",
      "source": [
        "##Fourth"
      ],
      "metadata": {
        "id": "AgMA32Tt1i2f"
      }
    },
    {
      "cell_type": "code",
      "source": [],
      "metadata": {
        "id": "s8Q-QyH40lkr"
      },
      "execution_count": null,
      "outputs": []
    }
  ]
}