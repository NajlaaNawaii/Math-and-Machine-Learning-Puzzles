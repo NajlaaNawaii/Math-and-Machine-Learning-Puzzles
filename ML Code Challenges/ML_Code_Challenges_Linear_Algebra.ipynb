{
  "nbformat": 4,
  "nbformat_minor": 0,
  "metadata": {
    "colab": {
      "provenance": [],
      "authorship_tag": "ABX9TyPm4H+/ZSf5+kaLx+EBBDUb",
      "include_colab_link": true
    },
    "kernelspec": {
      "name": "python3",
      "display_name": "Python 3"
    },
    "language_info": {
      "name": "python"
    }
  },
  "cells": [
    {
      "cell_type": "markdown",
      "metadata": {
        "id": "view-in-github",
        "colab_type": "text"
      },
      "source": [
        "<a href=\"https://colab.research.google.com/github/NajlaaNawaii/Math-and-Machine-Learning-Puzzles/blob/main/ML%20Code%20Challenges/ML_Code_Challenges_Linear_Algebra.ipynb\" target=\"_parent\"><img src=\"https://colab.research.google.com/assets/colab-badge.svg\" alt=\"Open In Colab\"/></a>"
      ]
    },
    {
      "cell_type": "markdown",
      "source": [
        "#ML CHALLENGES LINK: https://www.deep-ml.com/?difficulty=&category=linear+algebra&solved=&page=1"
      ],
      "metadata": {
        "id": "vltejWIJgH8a"
      }
    },
    {
      "cell_type": "markdown",
      "source": [
        "#Linear Algebra Easy (7 problems)!"
      ],
      "metadata": {
        "id": "pTOIHs95ibwT"
      }
    },
    {
      "cell_type": "markdown",
      "source": [
        "##Matrix times Vector (easy) ✔\n",
        "Write a Python function that takes the dot product of a matrix and a vector. return -1 if the matrix could not be dotted with the vector"
      ],
      "metadata": {
        "id": "BMSNVkV2nO7N"
      }
    },
    {
      "cell_type": "code",
      "source": [
        "a=[[1,2],[3,4]]\n",
        "b=[5,6]"
      ],
      "metadata": {
        "id": "yLbCJJtljLmn"
      },
      "execution_count": 16,
      "outputs": []
    },
    {
      "cell_type": "code",
      "source": [
        "def matrix_dot_vector(a:list[list[int|float]],b:list[int|float])-> list[int|float]:\n",
        "  if len(a[0]) != len(b):\n",
        "\t  return -1\n",
        "\n",
        "  c=[0]*len(a)\n",
        "  for i in range(len(a)):\n",
        "    for j in range(len(a[i])):\n",
        "      c[i]+=a[i][j]*b[j]\n",
        "  return c\n",
        "\n",
        "matrix_dot_vector(a,b)"
      ],
      "metadata": {
        "colab": {
          "base_uri": "https://localhost:8080/"
        },
        "id": "2yUXY5QPkt2C",
        "outputId": "53199e92-185b-4543-a8cc-0fe701398949"
      },
      "execution_count": 17,
      "outputs": [
        {
          "output_type": "execute_result",
          "data": {
            "text/plain": [
              "[17, 39]"
            ]
          },
          "metadata": {},
          "execution_count": 17
        }
      ]
    },
    {
      "cell_type": "code",
      "source": [
        "#Using List comprehension\n",
        "def matrix_dot_vector(a: list[list[int | float]], b: list[int | float]) -> list[int | float]:\n",
        "    if len(a[0]) != len(b):\n",
        "        return -1\n",
        "    return [sum(a_row[col] * b[col] for col in range(len(a_row))) for a_row in a]\n",
        "\n",
        "matrix_dot_vector(a,b)"
      ],
      "metadata": {
        "colab": {
          "base_uri": "https://localhost:8080/"
        },
        "id": "FqBfz_cDmuD6",
        "outputId": "634f8660-bda5-4a3c-8757-8fbe4bd650a2"
      },
      "execution_count": 18,
      "outputs": [
        {
          "output_type": "execute_result",
          "data": {
            "text/plain": [
              "[17, 39]"
            ]
          },
          "metadata": {},
          "execution_count": 18
        }
      ]
    },
    {
      "cell_type": "markdown",
      "source": [
        "##Transpose of a Matrix (easy) ✔\n",
        "Write a Python function that computes the transpose of a given matrix."
      ],
      "metadata": {
        "id": "hRhNL-gZy_5M"
      }
    },
    {
      "cell_type": "code",
      "source": [
        "a=[[1,2],[3,4],[5,6]]"
      ],
      "metadata": {
        "id": "NutVckEOzJnU"
      },
      "execution_count": 19,
      "outputs": []
    },
    {
      "cell_type": "code",
      "source": [
        "def transpose_matrix(a: list[list[int|float]]) -> list[list[int|float]]:\n",
        "\tb=[[0 for row in range(len(a))] for col in range(len(a[0]))]\n",
        "\tfor i in range(len(a[0])):\n",
        "\t\tfor j in range(len(a)):\n",
        "\t\t\tb[i][j]=a[j][i]\n",
        "\treturn b\n",
        "\n",
        "transpose_matrix(a)"
      ],
      "metadata": {
        "colab": {
          "base_uri": "https://localhost:8080/"
        },
        "id": "_UpoA_AYsTmE",
        "outputId": "74a0a403-286c-4233-d87f-08b863e2d357"
      },
      "execution_count": 20,
      "outputs": [
        {
          "output_type": "execute_result",
          "data": {
            "text/plain": [
              "[[1, 3, 5], [2, 4, 6]]"
            ]
          },
          "metadata": {},
          "execution_count": 20
        }
      ]
    },
    {
      "cell_type": "code",
      "source": [
        "#Using zip, it first unpack into tiples, returns a tuple of similar indices\n",
        "def transpose_matrix(a: list[list[int|float]]) -> list[list[int|float]]:\n",
        "  return [ list(row) for row in zip(*a)]\n",
        "\n",
        "transpose_matrix(a)"
      ],
      "metadata": {
        "colab": {
          "base_uri": "https://localhost:8080/"
        },
        "id": "X-qCRcCKzOMG",
        "outputId": "fc8f2a5a-d5d8-4f70-e669-baceca967701"
      },
      "execution_count": 21,
      "outputs": [
        {
          "output_type": "execute_result",
          "data": {
            "text/plain": [
              "[[1, 3, 5], [2, 4, 6]]"
            ]
          },
          "metadata": {},
          "execution_count": 21
        }
      ]
    },
    {
      "cell_type": "markdown",
      "source": [
        "##Transformation Matrix from Basis B to C (easy) ✔\n",
        "Given basis vectors in two different bases B and C for R^3, write a Python function to compute the transformation matrix P from basis B to C.\n"
      ],
      "metadata": {
        "id": "de9B6UgQlxQI"
      }
    },
    {
      "cell_type": "markdown",
      "source": [
        " #### To Change Basis:\n",
        "\n",
        "1. **Compute the Transformation Matrix**:\n",
        "\n",
        "   $$\n",
        "   P = C^{-1} \\times B\n",
        "   $$\n",
        "\n",
        "2. **Find the New Coordinates**:\n",
        "\n",
        "   $$\n",
        "   [\\mathbf{v}]_C = P \\times [\\mathbf{v}]_B\n",
        "   $$\n"
      ],
      "metadata": {
        "id": "fpzc46Ac7dTN"
      }
    },
    {
      "cell_type": "code",
      "source": [
        "B = [[1, 0, 0],\n",
        "    [0, 1, 0],\n",
        "    [0, 0, 1]]\n",
        "C = [[1, 2.3, 3],\n",
        "    [4.4, 25, 6],\n",
        "    [7.4, 8, 9]]\n"
      ],
      "metadata": {
        "id": "aCe5I4bprHCd"
      },
      "execution_count": 22,
      "outputs": []
    },
    {
      "cell_type": "code",
      "source": [
        "import numpy as np\n",
        "def transform_basis(B: list[list[int]], C: list[list[int]]) -> list[list[float]]:\n",
        "\n",
        "  #it's only for creating list so don't forget [],Doing it the hard way!\n",
        "  C=np.array(C)\n",
        "  C_inversed=np.linalg.inv(C)\n",
        "\n",
        "  P_transposed = [[sum(c_row[col] * b_col[col] for col in range(len(c_row))) for c_row in C_inversed] for b_col in [list(row) for row in zip(*B)]]\n",
        "  P=[list(row) for row in zip(*P_transposed)] #because the basis are the cols\n",
        "  return np.round(P,4)\n",
        "\n",
        "transform_basis(B,C)\n"
      ],
      "metadata": {
        "colab": {
          "base_uri": "https://localhost:8080/"
        },
        "id": "3nTZVQsKoiog",
        "outputId": "e81bfdf9-829a-4ee2-9b33-b2f4cf213f40"
      },
      "execution_count": 23,
      "outputs": [
        {
          "output_type": "execute_result",
          "data": {
            "text/plain": [
              "array([[-0.6772, -0.0126,  0.2342],\n",
              "       [-0.0184,  0.0505, -0.0275],\n",
              "       [ 0.5732, -0.0345, -0.0569]])"
            ]
          },
          "metadata": {},
          "execution_count": 23
        }
      ]
    },
    {
      "cell_type": "code",
      "source": [
        "import numpy as np\n",
        "def transform_basis(B: list[list[int]], C: list[list[int]]) -> list[list[float]]:\n",
        "\n",
        "  #it's only for creating list so don't forget [],Doing it the hard way!\n",
        "  B=np.array(B)\n",
        "  C=np.array(C)\n",
        "  C_inversed=np.linalg.inv(C)\n",
        "\n",
        "  P= C_inversed.dot(B)\n",
        "  return np.round(P,4)\n",
        "\n",
        "\n",
        "transform_basis(B,C)"
      ],
      "metadata": {
        "colab": {
          "base_uri": "https://localhost:8080/"
        },
        "id": "WV1XECGaqA9X",
        "outputId": "70750bdf-d1c1-4920-eed5-7f4b121b7c2a"
      },
      "execution_count": 24,
      "outputs": [
        {
          "output_type": "execute_result",
          "data": {
            "text/plain": [
              "array([[-0.6772, -0.0126,  0.2342],\n",
              "       [-0.0184,  0.0505, -0.0275],\n",
              "       [ 0.5732, -0.0345, -0.0569]])"
            ]
          },
          "metadata": {},
          "execution_count": 24
        }
      ]
    },
    {
      "cell_type": "markdown",
      "source": [
        "##Reshape Matrix (easy) ✔\n",
        "Write a Python function that reshapes a given matrix into a specified shape."
      ],
      "metadata": {
        "id": "AgMA32Tt1i2f"
      }
    },
    {
      "cell_type": "code",
      "source": [
        "import numpy as np\n",
        "\n",
        "def reshape_matrix(a: list[list[int|float]], new_shape: tuple[int, int]) -> list[list[int|float]]:\n",
        "\t#Write your code here and return a python list after reshaping by using numpy's tolist() method\n",
        "\t#Find a way o assert it can be reshaped\n",
        "  numbers_count=sum(len(row) for row in a)\n",
        "  required_count=new_shape[0]*new_shape[1]\n",
        "  if numbers_count!=required_count:\n",
        "    return \"It can't be reshaped\"\n",
        "  reshaped_matrix= np.array(a).reshape(new_shape).tolist()\n",
        "  return reshaped_matrix"
      ],
      "metadata": {
        "id": "s8Q-QyH40lkr"
      },
      "execution_count": 25,
      "outputs": []
    },
    {
      "cell_type": "code",
      "source": [
        "#test reshape matrix\n",
        "a=[[1,2],[3,4],[5,6]]\n",
        "new_shape=(2,3)\n",
        "reshape_matrix(a,new_shape)\n",
        "#test when can't be reshaped\n",
        "# new_shape=(3,3)\n",
        "# reshape_matrix(a,new_shape)"
      ],
      "metadata": {
        "colab": {
          "base_uri": "https://localhost:8080/"
        },
        "id": "WekLGOdmZXgi",
        "outputId": "097dac0c-b3e1-4548-e24a-92c2215c1bd2"
      },
      "execution_count": 26,
      "outputs": [
        {
          "output_type": "execute_result",
          "data": {
            "text/plain": [
              "[[1, 2, 3], [4, 5, 6]]"
            ]
          },
          "metadata": {},
          "execution_count": 26
        }
      ]
    },
    {
      "cell_type": "markdown",
      "source": [
        "##Convert Vector to Diagonal Matrix(easy) ✔\n",
        "Write a Python function to convert a 1D numpy array into a diagonal matrix. The function should take in a 1D numpy array x and return a 2D numpy array representing the diagonal matrix."
      ],
      "metadata": {
        "id": "3vWyXBdBaXVO"
      }
    },
    {
      "cell_type": "code",
      "source": [
        "x = np.array([1, 2, 3])"
      ],
      "metadata": {
        "id": "phP9Dnu-ZkI_"
      },
      "execution_count": 27,
      "outputs": []
    },
    {
      "cell_type": "code",
      "source": [
        "import numpy as np\n",
        "#Using for loop and zeros matrix\n",
        "def make_diagonal(x):\n",
        "\t# Your code here\n",
        "\tlength=len(x)\n",
        "\toutput=np.zeros((length,length))\n",
        "\tfor i in range(length):\n",
        "\t\toutput[i][i]=x[i]\n",
        "\treturn output\n",
        "\n",
        "make_diagonal(x)"
      ],
      "metadata": {
        "colab": {
          "base_uri": "https://localhost:8080/"
        },
        "id": "rJ6S6Tj-ab2T",
        "outputId": "6488ba7c-98f8-4747-873d-ac8861db1687"
      },
      "execution_count": 28,
      "outputs": [
        {
          "output_type": "execute_result",
          "data": {
            "text/plain": [
              "array([[1., 0., 0.],\n",
              "       [0., 2., 0.],\n",
              "       [0., 0., 3.]])"
            ]
          },
          "metadata": {},
          "execution_count": 28
        }
      ]
    },
    {
      "cell_type": "code",
      "source": [
        "def make_diagonal(x):\n",
        "  Identity=np.identity(len(x))\n",
        "  output=Identity*x\n",
        "  return output\n",
        "make_diagonal(x)"
      ],
      "metadata": {
        "colab": {
          "base_uri": "https://localhost:8080/"
        },
        "id": "0PYKsNDLbAVS",
        "outputId": "9d6b8406-f62b-4af0-e739-15b24854c18e"
      },
      "execution_count": 29,
      "outputs": [
        {
          "output_type": "execute_result",
          "data": {
            "text/plain": [
              "array([[1., 0., 0.],\n",
              "       [0., 2., 0.],\n",
              "       [0., 0., 3.]])"
            ]
          },
          "metadata": {},
          "execution_count": 29
        }
      ]
    },
    {
      "cell_type": "markdown",
      "source": [
        "##Calculate Mean by Row or Column (easy) ✔\n",
        "Write a Python function that calculates the mean of a matrix either by row or by column, based on a given mode. The function should take a matrix (list of lists) and a mode ('row' or 'column') as input and return a list of means according to the specified mode."
      ],
      "metadata": {
        "id": "Y-aFily3bm-U"
      }
    },
    {
      "cell_type": "code",
      "source": [
        "def calculate_matrix_mean(matrix: list[list[float]], mode: str) -> list[float]:\n",
        "\tif mode == 'column':\n",
        "\t\treturn [sum(col)/len(col) for col in zip(*matrix)]\n",
        "\telif mode == \"row\":\n",
        "\t\treturn [sum(row)/len(row) for row in matrix]\n",
        "\telse:\n",
        "\t\treturn \"You didn't specify a mode: row,column\"\n",
        "\n",
        "#test calculate_matrix_mean\n",
        "matrix=[[1,2,3],[4,5,6]]\n",
        "mode=\"column\"\n",
        "calculate_matrix_mean(matrix,mode)"
      ],
      "metadata": {
        "colab": {
          "base_uri": "https://localhost:8080/"
        },
        "id": "PzvHA3pGbTp-",
        "outputId": "d8807940-7495-4ddb-f6c3-45da24cfdb9e"
      },
      "execution_count": 30,
      "outputs": [
        {
          "output_type": "execute_result",
          "data": {
            "text/plain": [
              "[2.5, 3.5, 4.5]"
            ]
          },
          "metadata": {},
          "execution_count": 30
        }
      ]
    },
    {
      "cell_type": "markdown",
      "source": [
        "##Scalar Multiplication of a Matrix (easy) ✔\n",
        "Write a Python function that multiplies a matrix by a scalar and returns the result."
      ],
      "metadata": {
        "id": "qcpok1oMgEO7"
      }
    },
    {
      "cell_type": "code",
      "source": [
        "#Using list comprehension\n",
        "def scalar_multiply(matrix: list[list[int|float]], scalar: int|float) -> list[list[int|float]]:\n",
        "\treturn [[element * scalar for element in row] for row in matrix]\n",
        "\n",
        "#Test scalar_multiply\n",
        "matrix=[[1,2,3],[4,5,6]]\n",
        "scalar=2\n",
        "scalar_multiply(matrix,scalar)"
      ],
      "metadata": {
        "colab": {
          "base_uri": "https://localhost:8080/"
        },
        "id": "ya5fG_Xkf4YR",
        "outputId": "7173369c-c194-4337-95c4-8355e3240279"
      },
      "execution_count": 31,
      "outputs": [
        {
          "output_type": "execute_result",
          "data": {
            "text/plain": [
              "[[2, 4, 6], [8, 10, 12]]"
            ]
          },
          "metadata": {},
          "execution_count": 31
        }
      ]
    },
    {
      "cell_type": "code",
      "source": [
        "#Using numpy and broadcasting\n",
        "import numpy as np\n",
        "def scalar_multiply(matrix: list[list[int|float]], scalar: int|float) -> list[list[int|float]]:\n",
        "\treturn (np.array(matrix)*scalar).tolist()\n",
        "#test scalar_multiply\n",
        "matrix=[[1,2,3],[4,5,6]]\n",
        "scalar=2\n",
        "scalar_multiply(matrix,scalar)\n"
      ],
      "metadata": {
        "colab": {
          "base_uri": "https://localhost:8080/"
        },
        "id": "SuCh2BJ4hfKx",
        "outputId": "f86a1eec-c297-42f1-e4c2-c22f5e43f593"
      },
      "execution_count": 32,
      "outputs": [
        {
          "output_type": "execute_result",
          "data": {
            "text/plain": [
              "[[2, 4, 6], [8, 10, 12]]"
            ]
          },
          "metadata": {},
          "execution_count": 32
        }
      ]
    },
    {
      "cell_type": "code",
      "source": [],
      "metadata": {
        "id": "YfYPDjA0hrs1"
      },
      "execution_count": null,
      "outputs": []
    },
    {
      "cell_type": "markdown",
      "source": [
        "#Linear Algebra Medium (11 problems)!"
      ],
      "metadata": {
        "id": "bZssoA-Nin0v"
      }
    },
    {
      "cell_type": "markdown",
      "source": [
        "##next"
      ],
      "metadata": {
        "id": "9SxqF6j1i7ac"
      }
    },
    {
      "cell_type": "code",
      "source": [],
      "metadata": {
        "id": "0dd1lfJDi51M"
      },
      "execution_count": null,
      "outputs": []
    }
  ]
}