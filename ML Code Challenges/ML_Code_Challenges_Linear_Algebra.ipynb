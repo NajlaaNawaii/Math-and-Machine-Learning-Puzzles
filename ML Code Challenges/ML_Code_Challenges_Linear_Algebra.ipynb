{
  "nbformat": 4,
  "nbformat_minor": 0,
  "metadata": {
    "colab": {
      "provenance": [],
      "authorship_tag": "ABX9TyOyXuJYABV5Im1Wv/rfCkNC",
      "include_colab_link": true
    },
    "kernelspec": {
      "name": "python3",
      "display_name": "Python 3"
    },
    "language_info": {
      "name": "python"
    }
  },
  "cells": [
    {
      "cell_type": "markdown",
      "metadata": {
        "id": "view-in-github",
        "colab_type": "text"
      },
      "source": [
        "<a href=\"https://colab.research.google.com/github/NajlaaNawaii/Math-and-Machine-Learning-Puzzles/blob/main/ML%20Code%20Challenges/ML_Code_Challenges_Linear_Algebra.ipynb\" target=\"_parent\"><img src=\"https://colab.research.google.com/assets/colab-badge.svg\" alt=\"Open In Colab\"/></a>"
      ]
    },
    {
      "cell_type": "markdown",
      "source": [
        "#ML CHALLENGES LINK: https://www.deep-ml.com/?difficulty=&category=linear+algebra&solved=&page=1"
      ],
      "metadata": {
        "id": "vltejWIJgH8a"
      }
    },
    {
      "cell_type": "markdown",
      "source": [
        "#Linear Algebra Easy!"
      ],
      "metadata": {
        "id": "pTOIHs95ibwT"
      }
    },
    {
      "cell_type": "markdown",
      "source": [
        "##Matrix times Vector (easy) ✔\n",
        "Write a Python function that takes the dot product of a matrix and a vector. return -1 if the matrix could not be dotted with the vector"
      ],
      "metadata": {
        "id": "BMSNVkV2nO7N"
      }
    },
    {
      "cell_type": "code",
      "source": [
        "a=[[1,2],[3,4]]\n",
        "b=[5,6]"
      ],
      "metadata": {
        "id": "yLbCJJtljLmn"
      },
      "execution_count": 3,
      "outputs": []
    },
    {
      "cell_type": "code",
      "source": [
        "def matrix_dot_vector(a:list[list[int|float]],b:list[int|float])-> list[int|float]:\n",
        "  if len(a[0]) != len(b):\n",
        "\t  return -1\n",
        "\n",
        "  c=[0]*len(a)\n",
        "  for i in range(len(a)):\n",
        "    for j in range(len(a[i])):\n",
        "      c[i]+=a[i][j]*b[j]\n",
        "  return c\n",
        "\n",
        "matrix_dot_vector(a,b)"
      ],
      "metadata": {
        "colab": {
          "base_uri": "https://localhost:8080/"
        },
        "id": "2yUXY5QPkt2C",
        "outputId": "53199e92-185b-4543-a8cc-0fe701398949"
      },
      "execution_count": null,
      "outputs": [
        {
          "output_type": "execute_result",
          "data": {
            "text/plain": [
              "[17, 39]"
            ]
          },
          "metadata": {},
          "execution_count": 17
        }
      ]
    },
    {
      "cell_type": "code",
      "source": [
        "#Using List comprehension\n",
        "def matrix_dot_vector(a: list[list[int | float]], b: list[int | float]) -> list[int | float]:\n",
        "    if len(a[0]) != len(b):\n",
        "        return -1\n",
        "    return [sum(a_row[col] * b[col] for col in range(len(a_row))) for a_row in a]\n",
        "\n",
        "matrix_dot_vector(a,b)"
      ],
      "metadata": {
        "colab": {
          "base_uri": "https://localhost:8080/"
        },
        "id": "FqBfz_cDmuD6",
        "outputId": "634f8660-bda5-4a3c-8757-8fbe4bd650a2"
      },
      "execution_count": null,
      "outputs": [
        {
          "output_type": "execute_result",
          "data": {
            "text/plain": [
              "[17, 39]"
            ]
          },
          "metadata": {},
          "execution_count": 18
        }
      ]
    },
    {
      "cell_type": "code",
      "source": [
        "def matrix_dot_vector(a: list[list[int|float]], b: list[int|float]) -> list[int|float]:\n",
        "\tk=[]\n",
        "\tif len (a[0])==len(b):\n",
        "\t\tfor row in a:\n",
        "\t\t\telement=0\n",
        "\t\t\tfor i in range(len(row)):\n",
        "\t\t\t\telement+=row[i]*b[i]\n",
        "\t\t\tk.append(element)\n",
        "\t\treturn k\n",
        "\n",
        "\telse:\n",
        "\t\treturn -1"
      ],
      "metadata": {
        "id": "nQuoXtEFoGzi"
      },
      "execution_count": 1,
      "outputs": []
    },
    {
      "cell_type": "code",
      "source": [
        "matrix_dot_vector(a,b)"
      ],
      "metadata": {
        "colab": {
          "base_uri": "https://localhost:8080/"
        },
        "id": "ekf8qtkBoNHU",
        "outputId": "66ba78b9-8d33-45df-d7c6-832fbf8a9f62"
      },
      "execution_count": 4,
      "outputs": [
        {
          "output_type": "execute_result",
          "data": {
            "text/plain": [
              "[17, 39]"
            ]
          },
          "metadata": {},
          "execution_count": 4
        }
      ]
    },
    {
      "cell_type": "markdown",
      "source": [
        "##Transpose of a Matrix (easy) ✔\n",
        "Write a Python function that computes the transpose of a given matrix."
      ],
      "metadata": {
        "id": "hRhNL-gZy_5M"
      }
    },
    {
      "cell_type": "code",
      "source": [
        "a=[[1,2],[3,4],[5,6]]\n"
      ],
      "metadata": {
        "id": "NutVckEOzJnU"
      },
      "execution_count": 5,
      "outputs": []
    },
    {
      "cell_type": "code",
      "source": [
        "def transpose_matrix(a: list[list[int|float]]) -> list[list[int|float]]:\n",
        "\tb=[[0 for row in range(len(a))] for col in range(len(a[0]))]\n",
        "\tfor i in range(len(a[0])):\n",
        "\t\tfor j in range(len(a)):\n",
        "\t\t\tb[i][j]=a[j][i]\n",
        "\treturn b\n",
        "\n",
        "transpose_matrix(a)"
      ],
      "metadata": {
        "colab": {
          "base_uri": "https://localhost:8080/"
        },
        "id": "_UpoA_AYsTmE",
        "outputId": "8fc79f23-a83f-402c-d356-203889663814"
      },
      "execution_count": null,
      "outputs": [
        {
          "output_type": "execute_result",
          "data": {
            "text/plain": [
              "[[1, 3, 5], [2, 4, 6]]"
            ]
          },
          "metadata": {},
          "execution_count": 18
        }
      ]
    },
    {
      "cell_type": "code",
      "source": [
        "#Using zip, it first unpack into tuples, returns a tuple of similar indices\n",
        "def transpose_matrix(a: list[list[int|float]]) -> list[list[int|float]]:\n",
        "  #takes each inner list as a seperate argument for zip; unpacks\n",
        "  return [ list(row) for row in zip(*a)]\n",
        "\n",
        "transpose_matrix(a)"
      ],
      "metadata": {
        "colab": {
          "base_uri": "https://localhost:8080/"
        },
        "id": "X-qCRcCKzOMG",
        "outputId": "0d193ad6-323c-4ff2-c577-d5b7da138bd4"
      },
      "execution_count": null,
      "outputs": [
        {
          "output_type": "execute_result",
          "data": {
            "text/plain": [
              "[[1, 3, 5], [2, 4, 6]]"
            ]
          },
          "metadata": {},
          "execution_count": 23
        }
      ]
    },
    {
      "cell_type": "code",
      "source": [
        "import numpy as np\n",
        "def transpose_matrix(a: list[list[int|float]]) -> list[list[int|float]]:\n",
        "    b=np.empty((len(a[0]),len(a)),dtype=int)\n",
        "    for i in range(len(a)):\n",
        "        for j in range(len(a[0])):\n",
        "            b[j][i]=a[i][j]\n",
        "    return b.tolist()\n",
        "\n",
        "\n",
        "transpose_matrix(a)"
      ],
      "metadata": {
        "colab": {
          "base_uri": "https://localhost:8080/"
        },
        "id": "5rJdxTWjsfwO",
        "outputId": "31ac87e6-60ad-44fe-917e-b119e129a26f"
      },
      "execution_count": 12,
      "outputs": [
        {
          "output_type": "execute_result",
          "data": {
            "text/plain": [
              "[[1, 3, 5], [2, 4, 6]]"
            ]
          },
          "metadata": {},
          "execution_count": 12
        }
      ]
    },
    {
      "cell_type": "markdown",
      "source": [
        "##Transformation Matrix from Basis B to C (easy) ✔\n",
        "Given basis vectors in two different bases B and C for R^3, write a Python function to compute the transformation matrix P from basis B to C.\n"
      ],
      "metadata": {
        "id": "de9B6UgQlxQI"
      }
    },
    {
      "cell_type": "markdown",
      "source": [
        " #### To Change Basis:\n",
        "\n",
        "1. **Compute the Transformation Matrix**:\n",
        "\n",
        "   $$\n",
        "   P = C^{-1} \\times B\n",
        "   $$\n",
        "\n",
        "2. **Find the New Coordinates**:\n",
        "\n",
        "   $$\n",
        "   [\\mathbf{v}]_C = P \\times [\\mathbf{v}]_B\n",
        "   $$\n"
      ],
      "metadata": {
        "id": "fpzc46Ac7dTN"
      }
    },
    {
      "cell_type": "code",
      "source": [
        "B = [[1, 0, 0],\n",
        "    [0, 1, 0],\n",
        "    [0, 0, 1]]\n",
        "C = [[1, 2.3, 3],\n",
        "    [4.4, 25, 6],\n",
        "    [7.4, 8, 9]]\n"
      ],
      "metadata": {
        "id": "aCe5I4bprHCd"
      },
      "execution_count": null,
      "outputs": []
    },
    {
      "cell_type": "code",
      "source": [
        "import numpy as np\n",
        "def transform_basis(B: list[list[int]], C: list[list[int]]) -> list[list[float]]:\n",
        "\n",
        "  #it's only for creating list so don't forget [],Doing it the hard way!\n",
        "  C=np.array(C)\n",
        "  C_inversed=np.linalg.inv(C)\n",
        "\n",
        "  P_transposed = [[sum(c_row[col] * b_col[col] for col in range(len(c_row))) for c_row in C_inversed] for b_col in [list(row) for row in zip(*B)]]\n",
        "  P=[list(row) for row in zip(*P_transposed)] #because the basis are the cols\n",
        "  return np.round(P,4)\n",
        "\n",
        "transform_basis(B,C)\n"
      ],
      "metadata": {
        "colab": {
          "base_uri": "https://localhost:8080/"
        },
        "id": "3nTZVQsKoiog",
        "outputId": "e81bfdf9-829a-4ee2-9b33-b2f4cf213f40"
      },
      "execution_count": null,
      "outputs": [
        {
          "output_type": "execute_result",
          "data": {
            "text/plain": [
              "array([[-0.6772, -0.0126,  0.2342],\n",
              "       [-0.0184,  0.0505, -0.0275],\n",
              "       [ 0.5732, -0.0345, -0.0569]])"
            ]
          },
          "metadata": {},
          "execution_count": 23
        }
      ]
    },
    {
      "cell_type": "code",
      "source": [
        "import numpy as np\n",
        "def transform_basis(B: list[list[int]], C: list[list[int]]) -> list[list[float]]:\n",
        "\n",
        "  #it's only for creating list so don't forget [],Doing it the hard way!\n",
        "  B=np.array(B)\n",
        "  C=np.array(C)\n",
        "  C_inversed=np.linalg.inv(C)\n",
        "\n",
        "  P= C_inversed.dot(B)\n",
        "  return np.round(P,4)\n",
        "\n",
        "\n",
        "transform_basis(B,C)"
      ],
      "metadata": {
        "colab": {
          "base_uri": "https://localhost:8080/"
        },
        "id": "WV1XECGaqA9X",
        "outputId": "70750bdf-d1c1-4920-eed5-7f4b121b7c2a"
      },
      "execution_count": null,
      "outputs": [
        {
          "output_type": "execute_result",
          "data": {
            "text/plain": [
              "array([[-0.6772, -0.0126,  0.2342],\n",
              "       [-0.0184,  0.0505, -0.0275],\n",
              "       [ 0.5732, -0.0345, -0.0569]])"
            ]
          },
          "metadata": {},
          "execution_count": 24
        }
      ]
    },
    {
      "cell_type": "markdown",
      "source": [
        "##Reshape Matrix (easy) ✔\n",
        "Write a Python function that reshapes a given matrix into a specified shape."
      ],
      "metadata": {
        "id": "AgMA32Tt1i2f"
      }
    },
    {
      "cell_type": "code",
      "source": [
        "import numpy as np\n",
        "\n",
        "def reshape_matrix(a: list[list[int|float]], new_shape: tuple[int, int]) -> list[list[int|float]]:\n",
        "\t#Write your code here and return a python list after reshaping by using numpy's tolist() method\n",
        "\t#Find a way o assert it can be reshaped\n",
        "  numbers_count=sum(len(row) for row in a)\n",
        "  required_count=new_shape[0]*new_shape[1]\n",
        "  if numbers_count!=required_count:\n",
        "    return \"It can't be reshaped\"\n",
        "  reshaped_matrix= np.array(a).reshape(new_shape).tolist()\n",
        "  return reshaped_matrix"
      ],
      "metadata": {
        "id": "s8Q-QyH40lkr"
      },
      "execution_count": null,
      "outputs": []
    },
    {
      "cell_type": "code",
      "source": [
        "#test reshape matrix\n",
        "a=[[1,2],[3,4],[5,6]]\n",
        "new_shape=(2,3)\n",
        "reshape_matrix(a,new_shape)\n",
        "#test when can't be reshaped\n",
        "# new_shape=(3,3)\n",
        "# reshape_matrix(a,new_shape)"
      ],
      "metadata": {
        "colab": {
          "base_uri": "https://localhost:8080/"
        },
        "id": "WekLGOdmZXgi",
        "outputId": "d6b31554-ad78-4af3-fb46-509bf03bb652"
      },
      "execution_count": null,
      "outputs": [
        {
          "output_type": "execute_result",
          "data": {
            "text/plain": [
              "[[1, 2, 3], [4, 5, 6]]"
            ]
          },
          "metadata": {},
          "execution_count": 7
        }
      ]
    },
    {
      "cell_type": "markdown",
      "source": [
        "##Convert Vector to Diagonal Matrix(easy) ✔\n",
        "Write a Python function to convert a 1D numpy array into a diagonal matrix. The function should take in a 1D numpy array x and return a 2D numpy array representing the diagonal matrix."
      ],
      "metadata": {
        "id": "3vWyXBdBaXVO"
      }
    },
    {
      "cell_type": "code",
      "source": [
        "x = np.array([1, 2, 3])"
      ],
      "metadata": {
        "id": "phP9Dnu-ZkI_"
      },
      "execution_count": null,
      "outputs": []
    },
    {
      "cell_type": "code",
      "source": [
        "import numpy as np\n",
        "#Using for loop and zeros matrix\n",
        "def make_diagonal(x):\n",
        "\t# Your code here\n",
        "\tlength=len(x)\n",
        "\toutput=np.zeros((length,length))\n",
        "\tfor i in range(length):\n",
        "\t\toutput[i][i]=x[i]\n",
        "\treturn output\n",
        "\n",
        "make_diagonal(x)"
      ],
      "metadata": {
        "colab": {
          "base_uri": "https://localhost:8080/"
        },
        "id": "rJ6S6Tj-ab2T",
        "outputId": "c9ea04fa-6f98-4a94-b959-947efdfd24f9"
      },
      "execution_count": null,
      "outputs": [
        {
          "output_type": "execute_result",
          "data": {
            "text/plain": [
              "array([[1., 0., 0.],\n",
              "       [0., 2., 0.],\n",
              "       [0., 0., 3.]])"
            ]
          },
          "metadata": {},
          "execution_count": 10
        }
      ]
    },
    {
      "cell_type": "code",
      "source": [
        "def make_diagonal(x):\n",
        "  Identity=np.identity(len(x))\n",
        "  #Broadcasting; x is (1,n), then it's duplicated as (n,n) to do element-wise multiplication\n",
        "  #No Loops!\n",
        "  output=Identity*x\n",
        "  return output\n",
        "make_diagonal(x)"
      ],
      "metadata": {
        "colab": {
          "base_uri": "https://localhost:8080/"
        },
        "id": "0PYKsNDLbAVS",
        "outputId": "da5d46cd-0545-4aeb-de3e-f7533acb3951"
      },
      "execution_count": null,
      "outputs": [
        {
          "output_type": "execute_result",
          "data": {
            "text/plain": [
              "array([[1., 0., 0.],\n",
              "       [0., 2., 0.],\n",
              "       [0., 0., 3.]])"
            ]
          },
          "metadata": {},
          "execution_count": 12
        }
      ]
    },
    {
      "cell_type": "markdown",
      "source": [
        "##Calculate Mean by Row or Column (easy) ✔\n",
        "Write a Python function that calculates the mean of a matrix either by row or by column, based on a given mode. The function should take a matrix (list of lists) and a mode ('row' or 'column') as input and return a list of means according to the specified mode."
      ],
      "metadata": {
        "id": "Y-aFily3bm-U"
      }
    },
    {
      "cell_type": "code",
      "source": [
        "def calculate_matrix_mean(matrix: list[list[float]], mode: str) -> list[float]:\n",
        "\tif mode == 'column':\n",
        "\t\treturn [sum(col)/len(col) for col in zip(*matrix)]\n",
        "\telif mode == \"row\":\n",
        "\t\treturn [sum(row)/len(row) for row in matrix]\n",
        "\telse:\n",
        "\t\treturn \"You didn't specify a mode: row,column\"\n",
        "\n",
        "#test calculate_matrix_mean\n",
        "matrix=[[1,2,3],[4,5,6]]\n",
        "mode=\"column\"\n",
        "calculate_matrix_mean(matrix,mode)"
      ],
      "metadata": {
        "colab": {
          "base_uri": "https://localhost:8080/"
        },
        "id": "PzvHA3pGbTp-",
        "outputId": "c7a5589e-94a5-4d7d-9d48-6670891760bc"
      },
      "execution_count": null,
      "outputs": [
        {
          "output_type": "execute_result",
          "data": {
            "text/plain": [
              "[2.5, 3.5, 4.5]"
            ]
          },
          "metadata": {},
          "execution_count": 13
        }
      ]
    },
    {
      "cell_type": "code",
      "source": [
        "#Naming the axis of summing\n",
        "mean_across_rows = np.mean(matrix, axis=0)\n",
        "print(\"Mean across rows (for each column):\", mean_across_rows)\n",
        "\n",
        "mean_across_cols = np.mean(matrix, axis=1)\n",
        "print(\"Mean across columns (for each row):\", mean_across_cols)"
      ],
      "metadata": {
        "colab": {
          "base_uri": "https://localhost:8080/"
        },
        "id": "qOCFEyyyoGVR",
        "outputId": "a71936ea-4418-4aa8-b7d7-72a6f4df7bea"
      },
      "execution_count": null,
      "outputs": [
        {
          "output_type": "stream",
          "name": "stdout",
          "text": [
            "Mean across rows (for each column): [2.5 3.5 4.5]\n",
            "Mean across columns (for each row): [2. 5.]\n"
          ]
        }
      ]
    },
    {
      "cell_type": "markdown",
      "source": [
        "##Scalar Multiplication of a Matrix (easy) ✔\n",
        "Write a Python function that multiplies a matrix by a scalar and returns the result."
      ],
      "metadata": {
        "id": "qcpok1oMgEO7"
      }
    },
    {
      "cell_type": "code",
      "source": [
        "#Using list comprehension\n",
        "def scalar_multiply(matrix: list[list[int|float]], scalar: int|float) -> list[list[int|float]]:\n",
        "\treturn [[element * scalar for element in row] for row in matrix]\n",
        "\n",
        "#Test scalar_multiply\n",
        "matrix=[[1,2,3],[4,5,6]]\n",
        "scalar=2\n",
        "scalar_multiply(matrix,scalar)"
      ],
      "metadata": {
        "colab": {
          "base_uri": "https://localhost:8080/"
        },
        "id": "ya5fG_Xkf4YR",
        "outputId": "c9b171a9-5175-498d-c244-f8c780a955e0"
      },
      "execution_count": null,
      "outputs": [
        {
          "output_type": "execute_result",
          "data": {
            "text/plain": [
              "[[2, 4, 6], [8, 10, 12]]"
            ]
          },
          "metadata": {},
          "execution_count": 18
        }
      ]
    },
    {
      "cell_type": "code",
      "source": [
        "#Using numpy and broadcasting\n",
        "import numpy as np\n",
        "def scalar_multiply(matrix: list[list[int|float]], scalar: int|float) -> list[list[int|float]]:\n",
        "\t# matrix*scalar==> duplicates, to perform has to be numpy\n",
        "\treturn (np.array(matrix)*scalar).tolist()\n",
        "\n",
        "\n",
        "\n",
        "\n",
        "#test scalar_multiply\n",
        "matrix=[[1,2,3],[4,5,6]]\n",
        "scalar=2\n",
        "scalar_multiply(matrix,scalar)\n"
      ],
      "metadata": {
        "colab": {
          "base_uri": "https://localhost:8080/"
        },
        "id": "SuCh2BJ4hfKx",
        "outputId": "6ba76c71-159c-4dd9-8ce3-bc3152112baf"
      },
      "execution_count": null,
      "outputs": [
        {
          "output_type": "execute_result",
          "data": {
            "text/plain": [
              "[[2, 4, 6], [8, 10, 12]]"
            ]
          },
          "metadata": {},
          "execution_count": 19
        }
      ]
    },
    {
      "cell_type": "markdown",
      "source": [
        "##Implement Compressed Row Sparse Matrix (CSR) Format Conversion (easy) ✔\n",
        "Write a function compressed_row_sparse_matrix(dense_matrix) that takes a 2D list dense_matrix as input and returns a tuple containing three lists:\n",
        "\n",
        "Values array: List of all non-zero elements in row-major order.\n",
        "Column indices array: Column index for each non-zero element in the values array.\n",
        "Row pointer array: Cumulative number of non-zero elements per row, to indicate the start of each row in the values array."
      ],
      "metadata": {
        "id": "KEPDZRCXqNyI"
      }
    },
    {
      "cell_type": "code",
      "source": [
        "def compressed_row_sparse_matrix(dense_matrix):\n",
        "\t\"\"\"\n",
        "\tConvert a dense matrix to its Compressed Row Sparse (CSR) representation.\n",
        "\n",
        "\t:param dense_matrix: 2D list representing a dense matrix\n",
        "\t:return: A tuple containing (values array, column indices array, row pointer array)\n",
        "\t\"\"\"\n",
        "\tvals=[]\n",
        "\tcol_idx=[]\n",
        "\trow_ptr=[0]\n",
        "\tfor row in dense_matrix:\n",
        "\t\tfor i,val in enumerate(row):\n",
        "\t\t\tif val != 0:\n",
        "\t\t\t\tvals.append(val)\n",
        "\t\t\t\tcol_idx.append(i)\n",
        "\n",
        "\t\trow_ptr.append(len(vals))\n",
        "\n",
        "\treturn vals, col_idx,row_ptr\n",
        "\n"
      ],
      "metadata": {
        "id": "99FsLLxPqNGw"
      },
      "execution_count": null,
      "outputs": []
    },
    {
      "cell_type": "code",
      "source": [
        "dense_matrix = [\n",
        "    [1, 0, 0, 0],\n",
        "    [0, 2, 0, 0],\n",
        "    [3, 0, 4, 0],\n",
        "    [1, 0, 0, 5]\n",
        "]\n",
        "compressed_row_sparse_matrix(dense_matrix)"
      ],
      "metadata": {
        "colab": {
          "base_uri": "https://localhost:8080/"
        },
        "id": "89pO1n4Z3HFL",
        "outputId": "65d06435-682a-47e8-ee73-391ce14bb04a"
      },
      "execution_count": null,
      "outputs": [
        {
          "output_type": "execute_result",
          "data": {
            "text/plain": [
              "([1, 2, 3, 4, 1, 5], [0, 1, 0, 2, 0, 3], [0, 1, 2, 4, 6])"
            ]
          },
          "metadata": {},
          "execution_count": 2
        }
      ]
    },
    {
      "cell_type": "code",
      "source": [
        "#Using Scipy\n",
        "from scipy.sparse import csr_matrix\n",
        "csr = csr_matrix(dense_matrix)\n",
        "print(\"Values array:\", csr.data)\n",
        "print(\"Column indices array:\", csr.indices)\n",
        "print(\"Row pointer array:\", csr.indptr)"
      ],
      "metadata": {
        "colab": {
          "base_uri": "https://localhost:8080/"
        },
        "id": "DQ-7TUGv3g2J",
        "outputId": "32a39f40-4f4e-4658-e263-b1626d88d103"
      },
      "execution_count": null,
      "outputs": [
        {
          "output_type": "stream",
          "name": "stdout",
          "text": [
            "Values array: [1 2 3 4 1 5]\n",
            "Column indices array: [0 1 0 2 0 3]\n",
            "Row pointer array: [0 1 2 4 6]\n"
          ]
        }
      ]
    },
    {
      "cell_type": "markdown",
      "source": [
        "##Implement Orthogonal Projection of a Vector onto a Line (easy) ✔\n",
        "Write a function orthogonal_projection(v, L) that takes in two lists, v (the vector to be projected) and L (the line vector), and returns the orthogonal projection of v onto L. The function should output a list representing the projection vector rounded to three decimal places.\n",
        "\n"
      ],
      "metadata": {
        "id": "63jS4RXgqOug"
      }
    },
    {
      "cell_type": "code",
      "source": [
        "import numpy as np\n",
        "def orthogonal_projection(v, L):\n",
        "\t\"\"\"\n",
        "\tCompute the orthogonal projection of vector v onto line L.\n",
        "\n",
        "\t:param v: The vector to be projected\n",
        "\t:param L: The line vector defining the direction of projection\n",
        "\t:return: List representing the projection of v onto L\n",
        "\t\"\"\"\n",
        "\tv=np.array(v)\n",
        "\tL=np.array(L)\n",
        "\tv_L= v.dot(L)\n",
        "\tL_L=L.dot(L)\n",
        "\treturn ( v_L / L_L) * L\n",
        "\n",
        "\n",
        "v = [3, 4]\n",
        "L = [1, 0]\n",
        "orthogonal_projection(v,L)"
      ],
      "metadata": {
        "colab": {
          "base_uri": "https://localhost:8080/"
        },
        "id": "N5jm16NkqP0u",
        "outputId": "d7d27a34-0260-4f2f-cd3b-ccf81feae87c"
      },
      "execution_count": null,
      "outputs": [
        {
          "output_type": "execute_result",
          "data": {
            "text/plain": [
              "array([3., 0.])"
            ]
          },
          "metadata": {},
          "execution_count": 4
        }
      ]
    },
    {
      "cell_type": "markdown",
      "source": [
        "#Linear Algebra Medium (11 problems)!"
      ],
      "metadata": {
        "id": "bZssoA-Nin0v"
      }
    },
    {
      "cell_type": "markdown",
      "source": [
        "##Calculate Covariance Matrix (medium) ✔\n",
        "Write a Python function that calculates the covariance matrix from a list of vectors. Assume that the input list represents a dataset where each vector is a feature, and vectors are of equal length.\n",
        "\n",
        "\n",
        "### Covariance Equations\n",
        "\n",
        "1. **Covariance using Expected Value (E)**:\n",
        "\n",
        "   $$\n",
        "   \\text{Cov}(X, Y) = \\mathbb{E}[(X - \\mathbb{E}[X])(Y - \\mathbb{E}[Y])]\n",
        "   $$\n",
        "\n",
        "2. **Covariance using Summation**:\n",
        "\n",
        "   $$\n",
        "   \\text{Cov}(X, Y) = \\frac{\\sum_{i=1}^{n}(x_i - \\bar{x})(y_i - \\bar{y})}{n-1}\n",
        "   $$\n"
      ],
      "metadata": {
        "id": "9SxqF6j1i7ac"
      }
    },
    {
      "cell_type": "code",
      "source": [
        "import numpy as np\n",
        "def calculate_covariance_matrix(vectors: list[list[float]]) -> list[list[float]]:\n",
        "\tlength= len(vectors)\n",
        "\tsamples_length= len(vectors[0])\n",
        "\trows_means= [sum(feature)/samples_length for feature in vectors]\n",
        "\tcovariance_matrix=np.zeros((length,length))\n",
        "  #Default axis=0,\n",
        "\tcovariance_matrix=[[ ( ( np.sum((np.array(vectors[i])-rows_means[i])*(np.array(vectors[j])-rows_means[j]))  ) /(samples_length-1) ) for j in range(length) ] for i in range(length)]\n",
        "\treturn np.round(covariance_matrix,1)\n",
        "\n",
        "#test calculate_covariance_matrix\n",
        "vectors = [[1, 2, 3], [4, 5, 6]]\n",
        "calculate_covariance_matrix(vectors)\n"
      ],
      "metadata": {
        "colab": {
          "base_uri": "https://localhost:8080/"
        },
        "id": "jGRRUGv3nkXJ",
        "outputId": "44fc8530-7b2a-4eda-902e-5dfbf6fc2ee3"
      },
      "execution_count": null,
      "outputs": [
        {
          "output_type": "execute_result",
          "data": {
            "text/plain": [
              "array([[1., 1.],\n",
              "       [1., 1.]])"
            ]
          },
          "metadata": {},
          "execution_count": 58
        }
      ]
    },
    {
      "cell_type": "code",
      "source": [
        "import numpy as np\n",
        "def calculate_covariance_matrix(vectors: list[list[float]]) -> list[list[float]]:\n",
        "    data = np.array(vectors, dtype=np.float64)\n",
        "    #unbiased estimator\n",
        "    covariance_matrix = np.cov(data, bias=False)\n",
        "    covariance_matrix_rounded = np.round(covariance_matrix, 1)\n",
        "    return covariance_matrix_rounded.tolist()\n",
        "\n",
        "#test calculate_covariance_matrix\n",
        "vectors = [[1, 2, 3], [4, 5, 6]]\n",
        "calculate_covariance_matrix(vectors)"
      ],
      "metadata": {
        "colab": {
          "base_uri": "https://localhost:8080/"
        },
        "id": "O8c6OiUgr8Yu",
        "outputId": "d4e75218-9fe7-453f-fc29-b5f494dbf4b5"
      },
      "execution_count": null,
      "outputs": [
        {
          "output_type": "execute_result",
          "data": {
            "text/plain": [
              "[[1.0, 1.0], [1.0, 1.0]]"
            ]
          },
          "metadata": {},
          "execution_count": 59
        }
      ]
    },
    {
      "cell_type": "code",
      "source": [],
      "metadata": {
        "id": "94isKEnz-5o-"
      },
      "execution_count": null,
      "outputs": []
    }
  ]
}